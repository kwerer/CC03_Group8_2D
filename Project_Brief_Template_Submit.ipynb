{
 "cells": [
  {
   "cell_type": "markdown",
   "metadata": {
    "deletable": false,
    "editable": false,
    "nbgrader": {
     "grade": false,
     "locked": true,
     "solution": false
    }
   },
   "source": [
    "# 2D Design Template"
   ]
  },
  {
   "cell_type": "markdown",
   "metadata": {
    "deletable": false,
    "editable": false,
    "nbgrader": {
     "grade": false,
     "locked": true,
     "solution": false
    }
   },
   "source": [
    "# Overview\n",
    "\n",
    "The purpose of this project is for you to apply what you have learnt in this course. This includes working with data and visualizing it, create model of linear regression or logistic regression, as well as using metrics to measure the accuracy of your model. \n",
    "\n",
    "Please find the project handout description in the following link:\n",
    "- [DDW-MU-Humanities Handout](https://sutdapac-my.sharepoint.com/:b:/g/personal/franklin_anariba_sutd_edu_sg/EaonbI8dXvFHr5I75zUAhGEBXflfC4aZEqtcxPYHS5Jciw?e=s6UTbq)\n",
    "- [DDW-MU-SocialStudies Handout](https://sutdapac-my.sharepoint.com/:b:/g/personal/franklin_anariba_sutd_edu_sg/ETaVN6doTnJElS0Egw34XYQB_VYCwijjNk_05Ft4RctYjg?e=X8iVbw)\n",
    "\n",
    "There are two parts.\n",
    "- Part 1 is related to predicting COVID-19 deaths\n",
    "- Part 2 is open ended and you can find the problem of your interest as long as it is related to COVID-19. The only requirements are the following:\n",
    "    - The problem can be modelled either using Linear Regression (or Multiple Linear Regression) or Logistic Regression. This means either you are working with continous numerical data or classification. You are not allowed to use Neural Networks or other Machine Learning models.\n",
    "    - You must use Python and Jupyter Notebook\n",
    "\n",
    "The following tasks are a general guide to help you do your project for Part 2:\n",
    "1. Find an interesting problem which you can solve either using Linear Regression or Classification\n",
    "1. Find a dataset to build your model. You can use [Kaggle](https://www.kaggle.com/datasets) to find your datasets.\n",
    "1. Use plots to visualize and understand your data.\n",
    "1. Create training and test data set.\n",
    "1. Build your model\n",
    "1. Use metrics to evaluate your model.\n",
    "1. Improve your model"
   ]
  },
  {
   "cell_type": "markdown",
   "metadata": {
    "deletable": false,
    "editable": false,
    "nbgrader": {
     "grade": false,
     "locked": true,
     "solution": false
    }
   },
   "source": [
    "## Deliverables\n",
    "\n",
    "You need to submit this Jupyter notebook together with the dataset into Vocareum. Use the template in this notebook to work on this project."
   ]
  },
  {
   "cell_type": "markdown",
   "metadata": {
    "deletable": false,
    "editable": false,
    "nbgrader": {
     "grade": false,
     "locked": true,
     "solution": false
    }
   },
   "source": [
    "## Rubrics\n",
    "\n",
    "The rubrics for the scoring can be found in [this link](https://sutdapac-my.sharepoint.com/:b:/g/personal/franklin_anariba_sutd_edu_sg/EdLkuzyCrrJBp5QfVGtdHn8Bj3_epWiQMqv2mwyEei_3JQ?e=fLB0QN)."
   ]
  },
  {
   "cell_type": "markdown",
   "metadata": {},
   "source": [
    "## Students Submission\n",
    "\n",
    "Student's Name:\n",
    "- Aster Angelic Leong\n",
    "- Joseph Lai\n",
    "- Vedika Sairam Poonamalle\n",
    "- Raymond Harrison"
   ]
  },
  {
   "cell_type": "markdown",
   "metadata": {},
   "source": [
    "# Part 1"
   ]
  },
  {
   "cell_type": "markdown",
   "metadata": {},
   "source": [
    "Write your report here"
   ]
  },
  {
   "cell_type": "markdown",
   "metadata": {},
   "source": [
    "**1. Start by importing functions from cohort and homework 9**"
   ]
  },
  {
   "cell_type": "code",
   "execution_count": 1,
   "metadata": {
    "collapsed": true
   },
   "outputs": [],
   "source": [
    "import pandas as pd\n",
    "import matplotlib.pyplot as plt\n",
    "import seaborn as sns\n",
    "import numpy as np\n",
    "\n",
    "# functions from cohort and homework week 9\n",
    "\n",
    "def normalize_z(df):\n",
    "    return ((df - df.mean(axis=0))/df.std(axis=0))\n",
    "\n",
    "def get_features_targets(df, feature_names, target_names):\n",
    "    # get df of selected features\n",
    "    df_feature = df[feature_names]\n",
    "    # get df of selected targets\n",
    "    df_target = df[target_names]\n",
    "    return df_feature, df_target\n",
    "\n",
    "def prepare_feature(df_feature):\n",
    "    # number of columns in the dataframe\n",
    "    cols = len(df_feature.columns)\n",
    "    # convert df to numpy\n",
    "    feature = df_feature.to_numpy().reshape(-1,cols)\n",
    "    array = np.concatenate((np.ones((feature.shape[0],1)), feature), axis = 1)\n",
    "    return array\n",
    "\n",
    "def prepare_target(df_target):\n",
    "    cols = len(df_target.columns)\n",
    "    target = df_target.to_numpy().reshape(-1,cols)\n",
    "    return target\n",
    "\n",
    "def predict(df_feature, beta):\n",
    "    df_feature = normalize_z(df_feature)\n",
    "    preped_feature = prepare_feature(df_feature)\n",
    "    return predict_norm(preped_feature, beta)\n",
    "\n",
    "def predict_norm(X, beta):\n",
    "    return np.matmul(X,beta)\n",
    "\n",
    "def split_data(df_feature, df_target, random_state=100, test_size=0.3):\n",
    "    indexes = df_feature.index\n",
    "    if random_state != None:\n",
    "        np.random.seed(random_state)\n",
    "    k = int(test_size * len(indexes))\n",
    "    test_index = np.random.choice(indexes, k, replace=False)\n",
    "    indexes = set(indexes)\n",
    "    test_index = set(test_index)\n",
    "    train_index = indexes - test_index\n",
    "    # the above indexes just helps you to get random indexes within the entire data\n",
    "    df_feature_train = df_feature.loc[train_index, :]\n",
    "    df_feature_test = df_feature.loc[test_index, :]\n",
    "    df_target_train = df_target.loc[train_index, :]\n",
    "    df_target_test = df_target.loc[test_index, :]\n",
    "    \n",
    "    return df_feature_train, df_feature_test, df_target_train, df_target_test\n",
    "  \n",
    "def r2_score(y, ypred):\n",
    "    ss_res = np.sum((y-ypred)**2)\n",
    "    y_mean = np.mean(y)\n",
    "    ss_tot = np.sum((y-y_mean)**2)\n",
    "    r_2 = (1-(ss_res/ss_tot))\n",
    "    return r_2\n",
    "\n",
    "def mean_squared_error(target, pred):\n",
    "    num_data = target.shape[0]\n",
    "    return (1/num_data)*(np.sum((target-pred)**2))\n",
    "\n",
    "def mean_absolute_error(target,pred):\n",
    "    num_data = target.shape[0]\n",
    "    return (1/num_data)*(abs(np.sum(target-pred)))\n",
    "\n",
    "def compute_cost(X, y, beta): #beta is weighted values, in this case it is just choosen from random values\n",
    "    J = 0\n",
    "    number_of_samples = X.shape[0]\n",
    "    error = np.matmul(X, beta) - y\n",
    "    error_sq = np.matmul(error.T, error)\n",
    "    J = (1)/(2*number_of_samples) * error_sq \n",
    "    J = J[0][0]\n",
    "    return J\n",
    "\n",
    "def gradient_descent(X, y, beta, alpha, num_iters):\n",
    "    number_of_samples = X.shape[0]\n",
    "    J_storage = []\n",
    "    for i in range(num_iters):\n",
    "        derivative_error = (1/(number_of_samples)) * np.matmul(X.T, (np.matmul(X, beta) - y))\n",
    "        beta = beta - alpha *  derivative_error\n",
    "        J_storage.append(compute_cost(X, y, beta))\n",
    "    return beta, J_storage   "
   ]
  },
  {
   "cell_type": "markdown",
   "metadata": {},
   "source": [
    "\n",
    "\n",
    "**2. Create function to make the model that we will use to compare with our results from excel**\n",
    "\n"
   ]
  },
  {
   "cell_type": "code",
   "execution_count": 10,
   "metadata": {
    "collapsed": true
   },
   "outputs": [],
   "source": [
    "# single function to make the model\n",
    "# @args\n",
    "# 1. alpha-value (step for gradient descent)\n",
    "# 2. beta (starting beta values for gradient descent)\n",
    "# 3. iterations (number of iterations of gradient descent)\n",
    "# 4. feature_parameters (features used to train model)\n",
    "# 5. dataset used\n",
    "# 6. target column (target value that we are predicting)\n",
    "# @return r^2, mse values, mae value, predicted values, targeting testing values and features used for testing\n",
    "\n",
    "def make_model_vs_excel(alpha, beta, iterations, feature_parameters = [\"total_cases\",\"new_cases_smoothed\",\"total_cases_per_million\",\"new_cases_smoothed_per_million\",\"reproduction_rate\",\"positive_rate\"], dataset = \"Data/Task 1/countries_covid_data_total_features_final_csv.csv\" , target_column = [\"new_deaths_smoothed\"]):\n",
    "    df = pd.read_csv(dataset)\n",
    "    \n",
    "    # Extract the features and the target\n",
    "    df_features, df_target = get_features_targets(df,feature_parameters,target_column)\n",
    "\n",
    "    # Split data into training and testing features and targets\n",
    "    df_features_train = df_features.loc[0:2099]\n",
    "    df_target_train = df_target.loc[0:2099]\n",
    "\n",
    "    df_features_test = df_features.loc[2100:]\n",
    "    df_target_test = df_target.loc[2100:]\n",
    "    \n",
    "\n",
    "    # Normalize the features using z normalization\n",
    "    df_features_train_z = normalize_z(df_features_train)\n",
    "\n",
    "    # Change the features and the target to numpy array using the prepare functions\n",
    "    X = prepare_feature(df_features_train_z)\n",
    "    target = prepare_target(df_target_train)\n",
    "\n",
    "    # Call the gradient_descent function\n",
    "    beta, J_storage = gradient_descent(X, target, beta, alpha, iterations)\n",
    "\n",
    "\n",
    "    # call the predict() method\n",
    "    pred = predict(df_features_test,beta)\n",
    "\n",
    "    target = prepare_target(df_target_test)\n",
    "\n",
    "    r2 = r2_score(target,pred)\n",
    "    mse = mean_squared_error(target, pred)\n",
    "    mae = mean_absolute_error(target, pred)\n",
    "    return r2, mse, mae, pred, df_target_test, df_features_test, beta"
   ]
  },
  {
   "cell_type": "markdown",
   "metadata": {},
   "source": [
    "**3. Use our model to find the r<sup>2</sup> value, Mean Squared Error, Mean Absolute Error and Beta Coefficients**"
   ]
  },
  {
   "cell_type": "code",
   "execution_count": 3,
   "metadata": {},
   "outputs": [
    {
     "name": "stdout",
     "output_type": "stream",
     "text": [
      "r^2 value = 0.3774323914212878, mean squared error = 1017.384113172374, mean absolute error = 9.01552090629809\n",
      "beta coefficients are [[15.94946619]\n",
      " [ 4.01526285]\n",
      " [11.79893949]\n",
      " [-1.81345683]\n",
      " [ 3.05408047]\n",
      " [-2.75698124]\n",
      " [ 3.07024792]]\n"
     ]
    }
   ],
   "source": [
    "# Calculate metrics for our model\n",
    "r2, mse, mae, pred, target, df_features_test, beta = make_model_vs_excel(0.01, np.zeros((7,1)),3300)\n",
    "print(f\"r^2 value = {r2}, mean squared error = {mse}, mean absolute error = {mae}\")\n",
    "print(\"beta coefficients are\", beta)"
   ]
  },
  {
   "cell_type": "markdown",
   "metadata": {},
   "source": [
    "**4. Call <code>make_model_vs_excel()</code> for each individual feature to determine difference in target and predicted values **"
   ]
  },
  {
   "cell_type": "code",
   "execution_count": 4,
   "metadata": {},
   "outputs": [
    {
     "data": {
      "text/plain": [
       "Text(0, 0.5, 'New Deaths Smoothed')"
      ]
     },
     "execution_count": 4,
     "metadata": {},
     "output_type": "execute_result"
    },
    {
     "data": {
      "image/png": "[encoded data removed]",
      "text/plain": [
       "<Figure size 432x288 with 1 Axes>"
      ]
     },
     "metadata": {
      "needs_background": "light"
     },
     "output_type": "display_data"
    }
   ],
   "source": [
    "# Plot individual features against target values and predicted values\n",
    "\n",
    "r2, mse, mae, pred, target, df_features_test, beta = make_model_vs_excel(0.01, np.zeros((2,1)),3300, [\"total_cases\"])\n",
    "plt.scatter(x=df_features_test, y=target)\n",
    "plt.scatter(x=df_features_test, y=pred)\n",
    "plt.title(\"Total Cases vs target values and predicted values\")\n",
    "plt.xlabel(\"Total Cases\")\n",
    "plt.ylabel(\"New Deaths Smoothed\")"
   ]
  },
  {
   "cell_type": "code",
   "execution_count": 5,
   "metadata": {},
   "outputs": [
    {
     "data": {
      "text/plain": [
       "Text(0, 0.5, 'New Deaths Smoothed')"
      ]
     },
     "execution_count": 5,
     "metadata": {},
     "output_type": "execute_result"
    },
    {
     "data": {
      "image/png": "[encoded data removed]",
      "text/plain": [
       "<Figure size 432x288 with 1 Axes>"
      ]
     },
     "metadata": {
      "needs_background": "light"
     },
     "output_type": "display_data"
    }
   ],
   "source": [
    "r2, mse, mae, pred, target, df_features_test, beta = make_model_vs_excel(0.01, np.zeros((2,1)),3300, [\"new_cases_smoothed\"])\n",
    "plt.scatter(x=df_features_test, y=target)\n",
    "plt.scatter(x=df_features_test, y=pred)\n",
    "plt.title(\"New Cases Smoothed vs target values and predicted values\")\n",
    "plt.xlabel(\"New Cases Smoothed\")\n",
    "plt.ylabel(\"New Deaths Smoothed\")"
   ]
  },
  {
   "cell_type": "code",
   "execution_count": 6,
   "metadata": {},
   "outputs": [
    {
     "data": {
      "text/plain": [
       "Text(0, 0.5, 'New Deaths Smoothed')"
      ]
     },
     "execution_count": 6,
     "metadata": {},
     "output_type": "execute_result"
    },
    {
     "data": {
      "image/png": "[encoded data removed]",
      "text/plain": [
       "<Figure size 432x288 with 1 Axes>"
      ]
     },
     "metadata": {
      "needs_background": "light"
     },
     "output_type": "display_data"
    }
   ],
   "source": [
    "r2, mse, mae, pred, target, df_features_test, beta = make_model_vs_excel(0.01, np.zeros((2,1)),3300, [\"total_cases_per_million\"])\n",
    "plt.scatter(x=df_features_test, y=target)\n",
    "plt.scatter(x=df_features_test, y=pred)\n",
    "plt.title(\"Total Cases Per Million vs target values and predicted values\")\n",
    "plt.xlabel(\"Total Cases Per Million\")\n",
    "plt.ylabel(\"New Deaths Smoothed\")"
   ]
  },
  {
   "cell_type": "code",
   "execution_count": 7,
   "metadata": {},
   "outputs": [
    {
     "data": {
      "text/plain": [
       "Text(0, 0.5, 'New Deaths Smoothed')"
      ]
     },
     "execution_count": 7,
     "metadata": {},
     "output_type": "execute_result"
    },
    {
     "data": {
      "image/png": "[encoded data removed]",
      "text/plain": [
       "<Figure size 432x288 with 1 Axes>"
      ]
     },
     "metadata": {
      "needs_background": "light"
     },
     "output_type": "display_data"
    }
   ],
   "source": [
    "r2, mse, mae, pred, target, df_features_test, beta = make_model_vs_excel(0.01, np.zeros((2,1)),3300, [\"new_cases_smoothed_per_million\"])\n",
    "plt.scatter(x=df_features_test, y=target)\n",
    "plt.scatter(x=df_features_test, y=pred)\n",
    "plt.title(\"New Cases Smoothed Per Million vs target values and predicted values\")\n",
    "plt.xlabel(\"New Cases Smoothed Per Million\")\n",
    "plt.ylabel(\"New Deaths Smoothed\")"
   ]
  },
  {
   "cell_type": "code",
   "execution_count": 8,
   "metadata": {},
   "outputs": [
    {
     "data": {
      "text/plain": [
       "Text(0, 0.5, 'New Deaths Smoothed')"
      ]
     },
     "execution_count": 8,
     "metadata": {},
     "output_type": "execute_result"
    },
    {
     "data": {
      "image/png": "[encoded data removed]",
      "text/plain": [
       "<Figure size 432x288 with 1 Axes>"
      ]
     },
     "metadata": {
      "needs_background": "light"
     },
     "output_type": "display_data"
    }
   ],
   "source": [
    "r2, mse, mae, pred, target, df_features_test, beta = make_model_vs_excel(0.01, np.zeros((2,1)),3300, [\"reproduction_rate\"])\n",
    "plt.scatter(x=df_features_test, y=target)\n",
    "plt.scatter(x=df_features_test, y=pred)\n",
    "plt.title(\"Reproduction Rate vs target values and predicted values\")\n",
    "plt.xlabel(\"Reproduction Rate\")\n",
    "plt.ylabel(\"New Deaths Smoothed\")"
   ]
  },
  {
   "cell_type": "code",
   "execution_count": 9,
   "metadata": {},
   "outputs": [
    {
     "data": {
      "text/plain": [
       "Text(0, 0.5, 'New Deaths Smoothed')"
      ]
     },
     "execution_count": 9,
     "metadata": {},
     "output_type": "execute_result"
    },
    {
     "data": {
      "image/png": "[encoded data removed]",
      "text/plain": [
       "<Figure size 432x288 with 1 Axes>"
      ]
     },
     "metadata": {
      "needs_background": "light"
     },
     "output_type": "display_data"
    }
   ],
   "source": [
    "r2, mse, mae, pred, target, df_features_test, beta = make_model_vs_excel(0.01, np.zeros((2,1)),3300, [\"positive_rate\"])\n",
    "plt.scatter(x=df_features_test, y=target)\n",
    "plt.scatter(x=df_features_test, y=pred)\n",
    "plt.title(\"Positive Rate vs target values and predicted values\")\n",
    "plt.xlabel(\"Positive Rate\")\n",
    "plt.ylabel(\"New Deaths Smoothed\")"
   ]
  },
  {
   "cell_type": "markdown",
   "metadata": {},
   "source": [
    "# Part 2"
   ]
  },
  {
   "cell_type": "markdown",
   "metadata": {},
   "source": [
    "### Overview About the Problem\n",
    "\n",
    "### Discover\n",
    "\n",
    "The covid-19 pandemic has presented us with many new challenges through the last 2 year, to adapt to these ever changing conditions, we need to be able to adapt and constantly come up with new solutions to tackle these issues. To do so, we need to determine when is the ideal time to start our ideas and seize the opportunities in this uncertain time.\n",
    "\n",
    "### Define\n",
    "\n",
    "We start in Singapore, where we are most familiar with. It is important to know when we will be able to flatten the curve so as to open up our economy, social activities in our community given the our vaccinations rates, new daily cases and our government's stance.\n",
    "\n",
    "### Develop\n",
    "\n",
    "To do so, we came up with a multiple linear regression model to calculate what would the stringency index be in Singapore given our current conditions based on our past experiences with the virus. This would allow us to have a good idea of when Singapore would be able to ease our businesses and daily activities and resume our normal lives.\n",
    "\n",
    "### Deliver\n",
    "\n",
    "We shall provide a model to allow users to key in various parameters to calculate Singapore's expected stringency index\n",
    "\n"
   ]
  },
  {
   "cell_type": "markdown",
   "metadata": {},
   "source": [
    "# Problem Statement\n",
    "\n",
    "### Given a rise in covid-19 cases, the Singaporean Government would always take the necessary precautions to prevent an unpreceeded rise in COVID-19 transmission. This increases the Stringency Index significantly as workplaces, schools closes. In such a case, what would the stringency index of Singapore be?"
   ]
  },
  {
   "cell_type": "markdown",
   "metadata": {},
   "source": [
    "### Dataset\n",
    "\n",
    "Describe here your data set. Put the link to the sources of your dataset. Describe your data and what are the columns.\n",
    "\n",
    "Put some Python codes here to describe and visualize your data."
   ]
  },
  {
   "cell_type": "markdown",
   "metadata": {},
   "source": [
    "### Data\n",
    "\n",
    "#### Link to data source: https://github.com/owid/covid-19-data/tree/master/public/data\n",
    "\n",
    "#### Why is this data used?\n",
    "1. Sources are clearly documented, for example, all data under Singapore comes directly from Ministry of Health, Singapore, which ensures that data is accurate and not tweaked or false\n",
    "2. Contains very little missing values and it updated daily\n",
    "    - Ensures that the data given is current with little errors\n",
    "    - Missing data is filled using growth trendline analysis using excel\n",
    "   - Ensures a growth trend in data such as vaccinations rates using values before and after, which can only be increasing\n",
    "   - Obvious data is filled manually, such as where vaccinated numbers are all 0 before vaccines are introduced\n",
    "3. Provides a large variety of parameters\n",
    "    - Ensures that we have a diverse range of parameters to accurately train our model\n",
    "    - Provides smoothed values to ensure no abnormal values\n",
    "      - 0 vaccinations prior to discovery of vaccinations and deflivery to Singapore on 31 Dec 2020  \n"
   ]
  },
  {
   "cell_type": "markdown",
   "metadata": {},
   "source": [
    "**1. Import data from csv folder**"
   ]
  },
  {
   "cell_type": "code",
   "execution_count": 10,
   "metadata": {},
   "outputs": [
    {
     "data": {
      "text/html": [
       "<div>\n",
       "<style scoped>\n",
       "    .dataframe tbody tr th:only-of-type {\n",
       "        vertical-align: middle;\n",
       "    }\n",
       "\n",
       "    .dataframe tbody tr th {\n",
       "        vertical-align: top;\n",
       "    }\n",
       "\n",
       "    .dataframe thead th {\n",
       "        text-align: right;\n",
       "    }\n",
       "</style>\n",
       "<table border=\"1\" class=\"dataframe\">\n",
       "  <thead>\n",
       "    <tr style=\"text-align: right;\">\n",
       "      <th></th>\n",
       "      <th>location</th>\n",
       "      <th>date</th>\n",
       "      <th>new_cases_smoothed_per_million</th>\n",
       "      <th>total_cases_per_million</th>\n",
       "      <th>new_deaths_smoothed_per_million</th>\n",
       "      <th>reproduction_rate</th>\n",
       "      <th>new_tests_smoothed_per_thousand</th>\n",
       "      <th>positive_rate</th>\n",
       "      <th>people_fully_vaccinated_per_hundred</th>\n",
       "      <th>stringency_index</th>\n",
       "      <th>Unnamed: 10</th>\n",
       "    </tr>\n",
       "  </thead>\n",
       "  <tbody>\n",
       "    <tr>\n",
       "      <th>0</th>\n",
       "      <td>Singapore</td>\n",
       "      <td>1/3/2020</td>\n",
       "      <td>0.445</td>\n",
       "      <td>0.183</td>\n",
       "      <td>0.000</td>\n",
       "      <td>0.56</td>\n",
       "      <td>0.000</td>\n",
       "      <td>0.000</td>\n",
       "      <td>0.000</td>\n",
       "      <td>30.56</td>\n",
       "      <td>NaN</td>\n",
       "    </tr>\n",
       "    <tr>\n",
       "      <th>1</th>\n",
       "      <td>Singapore</td>\n",
       "      <td>2/3/2020</td>\n",
       "      <td>0.498</td>\n",
       "      <td>0.550</td>\n",
       "      <td>0.000</td>\n",
       "      <td>0.54</td>\n",
       "      <td>0.000</td>\n",
       "      <td>0.000</td>\n",
       "      <td>0.000</td>\n",
       "      <td>30.56</td>\n",
       "      <td>NaN</td>\n",
       "    </tr>\n",
       "    <tr>\n",
       "      <th>2</th>\n",
       "      <td>Singapore</td>\n",
       "      <td>3/3/2020</td>\n",
       "      <td>0.498</td>\n",
       "      <td>0.550</td>\n",
       "      <td>0.000</td>\n",
       "      <td>0.53</td>\n",
       "      <td>0.000</td>\n",
       "      <td>0.000</td>\n",
       "      <td>0.000</td>\n",
       "      <td>30.56</td>\n",
       "      <td>NaN</td>\n",
       "    </tr>\n",
       "    <tr>\n",
       "      <th>3</th>\n",
       "      <td>Singapore</td>\n",
       "      <td>4/3/2020</td>\n",
       "      <td>0.445</td>\n",
       "      <td>0.733</td>\n",
       "      <td>0.000</td>\n",
       "      <td>0.57</td>\n",
       "      <td>0.000</td>\n",
       "      <td>0.000</td>\n",
       "      <td>0.000</td>\n",
       "      <td>30.56</td>\n",
       "      <td>NaN</td>\n",
       "    </tr>\n",
       "    <tr>\n",
       "      <th>4</th>\n",
       "      <td>Singapore</td>\n",
       "      <td>5/3/2020</td>\n",
       "      <td>0.629</td>\n",
       "      <td>0.917</td>\n",
       "      <td>0.000</td>\n",
       "      <td>0.73</td>\n",
       "      <td>0.000</td>\n",
       "      <td>0.000</td>\n",
       "      <td>0.000</td>\n",
       "      <td>30.56</td>\n",
       "      <td>NaN</td>\n",
       "    </tr>\n",
       "    <tr>\n",
       "      <th>...</th>\n",
       "      <td>...</td>\n",
       "      <td>...</td>\n",
       "      <td>...</td>\n",
       "      <td>...</td>\n",
       "      <td>...</td>\n",
       "      <td>...</td>\n",
       "      <td>...</td>\n",
       "      <td>...</td>\n",
       "      <td>...</td>\n",
       "      <td>...</td>\n",
       "      <td>...</td>\n",
       "    </tr>\n",
       "    <tr>\n",
       "      <th>609</th>\n",
       "      <td>Singapore</td>\n",
       "      <td>31/10/2021</td>\n",
       "      <td>673.998</td>\n",
       "      <td>15193.634</td>\n",
       "      <td>0.288</td>\n",
       "      <td>0.97</td>\n",
       "      <td>4.130</td>\n",
       "      <td>0.163</td>\n",
       "      <td>86.405</td>\n",
       "      <td>44.44</td>\n",
       "      <td>NaN</td>\n",
       "    </tr>\n",
       "    <tr>\n",
       "      <th>610</th>\n",
       "      <td>Singapore</td>\n",
       "      <td>1/11/2021</td>\n",
       "      <td>655.556</td>\n",
       "      <td>15496.186</td>\n",
       "      <td>0.367</td>\n",
       "      <td>0.94</td>\n",
       "      <td>4.130</td>\n",
       "      <td>0.159</td>\n",
       "      <td>86.445</td>\n",
       "      <td>44.44</td>\n",
       "      <td>NaN</td>\n",
       "    </tr>\n",
       "    <tr>\n",
       "      <th>611</th>\n",
       "      <td>Singapore</td>\n",
       "      <td>2/11/2021</td>\n",
       "      <td>661.293</td>\n",
       "      <td>15760.782</td>\n",
       "      <td>0.419</td>\n",
       "      <td>0.92</td>\n",
       "      <td>3.976</td>\n",
       "      <td>0.166</td>\n",
       "      <td>86.485</td>\n",
       "      <td>44.44</td>\n",
       "      <td>NaN</td>\n",
       "    </tr>\n",
       "    <tr>\n",
       "      <th>612</th>\n",
       "      <td>Singapore</td>\n",
       "      <td>3/11/2021</td>\n",
       "      <td>617.050</td>\n",
       "      <td>16116.327</td>\n",
       "      <td>0.472</td>\n",
       "      <td>0.90</td>\n",
       "      <td>3.822</td>\n",
       "      <td>0.161</td>\n",
       "      <td>86.525</td>\n",
       "      <td>44.44</td>\n",
       "      <td>NaN</td>\n",
       "    </tr>\n",
       "    <tr>\n",
       "      <th>613</th>\n",
       "      <td>Singapore</td>\n",
       "      <td>4/11/2021</td>\n",
       "      <td>605.812</td>\n",
       "      <td>16418.329</td>\n",
       "      <td>0.472</td>\n",
       "      <td>0.88</td>\n",
       "      <td>3.667</td>\n",
       "      <td>0.165</td>\n",
       "      <td>86.565</td>\n",
       "      <td>44.44</td>\n",
       "      <td>NaN</td>\n",
       "    </tr>\n",
       "  </tbody>\n",
       "</table>\n",
       "<p>614 rows × 11 columns</p>\n",
       "</div>"
      ],
      "text/plain": [
       "      location        date  new_cases_smoothed_per_million  \\\n",
       "0    Singapore    1/3/2020                           0.445   \n",
       "1    Singapore    2/3/2020                           0.498   \n",
       "2    Singapore    3/3/2020                           0.498   \n",
       "3    Singapore    4/3/2020                           0.445   \n",
       "4    Singapore    5/3/2020                           0.629   \n",
       "..         ...         ...                             ...   \n",
       "609  Singapore  31/10/2021                         673.998   \n",
       "610  Singapore   1/11/2021                         655.556   \n",
       "611  Singapore   2/11/2021                         661.293   \n",
       "612  Singapore   3/11/2021                         617.050   \n",
       "613  Singapore   4/11/2021                         605.812   \n",
       "\n",
       "     total_cases_per_million  new_deaths_smoothed_per_million  \\\n",
       "0                      0.183                            0.000   \n",
       "1                      0.550                            0.000   \n",
       "2                      0.550                            0.000   \n",
       "3                      0.733                            0.000   \n",
       "4                      0.917                            0.000   \n",
       "..                       ...                              ...   \n",
       "609                15193.634                            0.288   \n",
       "610                15496.186                            0.367   \n",
       "611                15760.782                            0.419   \n",
       "612                16116.327                            0.472   \n",
       "613                16418.329                            0.472   \n",
       "\n",
       "     reproduction_rate  new_tests_smoothed_per_thousand  positive_rate  \\\n",
       "0                 0.56                            0.000          0.000   \n",
       "1                 0.54                            0.000          0.000   \n",
       "2                 0.53                            0.000          0.000   \n",
       "3                 0.57                            0.000          0.000   \n",
       "4                 0.73                            0.000          0.000   \n",
       "..                 ...                              ...            ...   \n",
       "609               0.97                            4.130          0.163   \n",
       "610               0.94                            4.130          0.159   \n",
       "611               0.92                            3.976          0.166   \n",
       "612               0.90                            3.822          0.161   \n",
       "613               0.88                            3.667          0.165   \n",
       "\n",
       "     people_fully_vaccinated_per_hundred  stringency_index Unnamed: 10  \n",
       "0                                  0.000             30.56         NaN  \n",
       "1                                  0.000             30.56         NaN  \n",
       "2                                  0.000             30.56         NaN  \n",
       "3                                  0.000             30.56         NaN  \n",
       "4                                  0.000             30.56         NaN  \n",
       "..                                   ...               ...         ...  \n",
       "609                               86.405             44.44         NaN  \n",
       "610                               86.445             44.44         NaN  \n",
       "611                               86.485             44.44         NaN  \n",
       "612                               86.525             44.44         NaN  \n",
       "613                               86.565             44.44         NaN  \n",
       "\n",
       "[614 rows x 11 columns]"
      ]
     },
     "metadata": {},
     "output_type": "display_data"
    }
   ],
   "source": [
    "df = pd.read_csv(\"Data/Task 2/Singapore_Covid_Data_csv.csv\")\n",
    "display(df)"
   ]
  },
  {
   "cell_type": "markdown",
   "metadata": {},
   "source": [
    "### Features and Target Preparation\n",
    "\n",
    "Describe here what are the features you use and why these features. Put any Python codes to prepare and clean up your features. \n",
    "\n",
    "Do the same thing for the target. Describe your target and put any codes to prepare your target."
   ]
  },
  {
   "cell_type": "markdown",
   "metadata": {},
   "source": [
    "**2. Create single function to make model**\n",
    "\n",
    "#### Model\n",
    "\n",
    "Features considered:\n",
    "1. new_cases_smoothed_per_million\n",
    "    - The number of new cases directly corresponds to the community transmission of COVID-19, giving a clear indication of the prevalence of virus in the community\n",
    "    - Higher number of new cases signals high transmission rates in the community, leading to higher stringency index to keep new cases low\n",
    "2. total_cases_per_millon\n",
    "    - Total numnber of infected individuals is an indication of how many people in the community have natural immunity to COVID-19\n",
    "    - Higher total cases will lead to herd immnunity, leading to lower stringency index\n",
    "3. new_deaths_smoothed_per_million\n",
    "    - Indicates the number of new deaths, an important indicator that is in line with Singapore's stance to be COVID resilient with keeping daily death rates low\n",
    "    - Higher death rates will signal that the virus is becoming more deadly, leading to a higher stringency index to keep people safe\n",
    "4. new_tests_smoothed_per_thousand\n",
    "    - Indicates the number of test done each day, a higher number of testing done will help to ensure that positive cases are picked up earlier and therefore isolated and reduce the spread of the virus\n",
    "    - Higher number of new tests will lower transmissibility leading to stringency index lowering\n",
    "5. positive_rate\n",
    "    - Indicates the percentage of test done that are positive, will give an indication of how many cases are there in the community that is transmitted without being picked up\n",
    "    - Higher postive rates with higher reservoir of undetected cases will lead to stringency index increasing\n",
    "6. people_fully_vaccinated_per_hundred\n",
    "    - Indicates how many people are fully vaccinated and therefore lowering the chances of death as well as having a shorter infectious period, leading to slower transmission rates\n",
    "    - Higher vaccination rates gives lower death rate and lower transmissibility will likely lead to lower stringency index\n",
    "    \n",
    "    \n",
    "Target:\n",
    "\n",
    "1. Stringency Index\n",
    "    - Composite measure based on 9 response indicators including school closures, workplace closures, and travel bans rescaled to a value from 0 to 100 (100 = strictest)\n",
    "    - Overall good indicator of the level of restrictions that are imposed on people living in a certain area"
   ]
  },
  {
   "cell_type": "markdown",
   "metadata": {
    "collapsed": true
   },
   "source": [
    "**2.1 Codes used to prepare features and targets**\n"
   ]
  },
  {
   "cell_type": "markdown",
   "metadata": {},
   "source": [
    "\n",
    "1. get_features_targets()\n",
    "    - Get dataframe with features and target columns\n",
    "\n",
    "2. split_data()\n",
    "    - Split data sets into training and test sets\n",
    "    \n",
    "3. normalize-Z()\n",
    "    - Normalize data set\n",
    "\n",
    "4. prepare_feature() & prepare_target()\n",
    "    - Prepare datasets for training model"
   ]
  },
  {
   "cell_type": "markdown",
   "metadata": {},
   "source": [
    "### Building Model\n",
    "\n",
    "Describe your model. Is this Linear Regression or Logistic Regression? Put any other details about the model. Put the codes to build your model."
   ]
  },
  {
   "cell_type": "markdown",
   "metadata": {},
   "source": [
    "1. Uses gradient descent to derive optimal beta values\n",
    "2. Use optimal beta values to predict r<sup>2</sup> values, Mean Squared Error, Mean Absolute Error and Beta Coefficients"
   ]
  },
  {
   "cell_type": "code",
   "execution_count": 11,
   "metadata": {
    "collapsed": true
   },
   "outputs": [],
   "source": [
    "# single function to make the model\n",
    "# @args\n",
    "# 1. alpha-value (step for gradient descent)\n",
    "# 2. beta (starting beta values for gradient descent)\n",
    "# 3. iterations (number of iterations of gradient descent)\n",
    "# 4. start (starting row)\n",
    "# 5. end (last row)\n",
    "# 6. feature_parameters (features used to train model)\n",
    "# @return r^2 and mse values + mae value\n",
    "\n",
    "def make_model(alpha, beta, iterations,start=46,end=None, feature_parameters =[\"new_cases_smoothed_per_million\",\"total_cases_per_million\",\"new_deaths_smoothed_per_million\", \"reproduction_rate\", \"new_tests_smoothed_per_thousand\",\"people_fully_vaccinated_per_hundred\",\"positive_rate\"], dataset = \"Data/Task 2/Singapore_Covid_Data_csv.csv\" , target_column = [\"stringency_index\"]):\n",
    "    df = pd.read_csv(dataset)\n",
    "    \n",
    "    # Extract the features and the target\n",
    "    df_features_original_train, df_target = get_features_targets(df.loc[start:end,:],feature_parameters,target_column)\n",
    "\n",
    "    # Split the data set into training and test\n",
    "    df_features_train, df_features_test, df_target_train, df_target_test = split_data(df_features_original_train,df_target,100,0.3)\n",
    "\n",
    "    # Normalize the features using z normalization\n",
    "    df_features_train_z = normalize_z(df_features_train)\n",
    "\n",
    "    # Change the features and the target to numpy array using the prepare functions\n",
    "    X = prepare_feature(df_features_train_z)\n",
    "    target = prepare_target(df_target_train)\n",
    "\n",
    "    # Call the gradient_descent function\n",
    "    beta, J_storage = gradient_descent(X, target, beta, alpha, iterations)\n",
    "\n",
    "    # call the predict() method\n",
    "    pred = predict(df_features_test,beta)\n",
    "\n",
    "    target = prepare_target(df_target_test)\n",
    "    r2 = r2_score(target,pred)\n",
    "    mse = mean_squared_error(target, pred)\n",
    "    mae = mean_absolute_error(target, pred)\n",
    "    # print(f\"r^2 value = {r2}, mean squared error = {mse}, mean absolute error = {mae}, beta coefficients = {beta}\")\n",
    "    return r2, mse, mae, beta, pred, target, df_features_test"
   ]
  },
  {
   "cell_type": "markdown",
   "metadata": {},
   "source": [
    "### Evaluating the Model\n",
    "\n",
    "Describe your metrics and how you want to evaluate your model. Put any Python code to evaluate your model. Use plots to have a visual evaluation."
   ]
  },
  {
   "cell_type": "code",
   "execution_count": 12,
   "metadata": {},
   "outputs": [
    {
     "name": "stdout",
     "output_type": "stream",
     "text": [
      "r2_value = 0.0034459523175294215, mse_value = 75.98249371436289, mae_value = 0.2300245344372426\n"
     ]
    },
    {
     "data": {
      "text/plain": [
       "Text(0, 0.5, 'Stringency Index')"
      ]
     },
     "execution_count": 12,
     "metadata": {},
     "output_type": "execute_result"
    },
    {
     "data": {
      "image/png": "[encoded data removed]",
      "text/plain": [
       "<Figure size 432x288 with 1 Axes>"
      ]
     },
     "metadata": {
      "needs_background": "light"
     },
     "output_type": "display_data"
    }
   ],
   "source": [
    "r2_value, mse_value, mae_value, beta, pred, target, df_features_test = make_model(0.01,np.zeros((2, 1)),3300, 46, None, [\"new_cases_smoothed_per_million\"])\n",
    "print(f\"r2_value = {r2_value}, mse_value = {mse_value}, mae_value = {mae_value}\")\n",
    "plt.scatter(x=df_features_test, y=target)\n",
    "plt.scatter(x=df_features_test, y=pred)\n",
    "plt.title(\"New Cases Smoothed Per Million vs target values and predicted values\")\n",
    "plt.xlabel(\"Positive Rate\")\n",
    "plt.ylabel(\"Stringency Index\")"
   ]
  },
  {
   "cell_type": "code",
   "execution_count": 13,
   "metadata": {},
   "outputs": [
    {
     "name": "stdout",
     "output_type": "stream",
     "text": [
      "r2_value = 0.7305709516036634, mse_value = 20.542680072244636, mae_value = 0.230024534437236\n"
     ]
    },
    {
     "data": {
      "text/plain": [
       "Text(0, 0.5, 'Stringency Index')"
      ]
     },
     "execution_count": 13,
     "metadata": {},
     "output_type": "execute_result"
    },
    {
     "data": {
      "image/png": "[encoded data removed]",
      "text/plain": [
       "<Figure size 432x288 with 1 Axes>"
      ]
     },
     "metadata": {
      "needs_background": "light"
     },
     "output_type": "display_data"
    }
   ],
   "source": [
    "r2_value, mse_value, mae_value, beta, pred, target, df_features_test = make_model(0.01,np.zeros((2, 1)),3300, 46, None, [\"total_cases_per_million\"])\n",
    "print(f\"r2_value = {r2_value}, mse_value = {mse_value}, mae_value = {mae_value}\")\n",
    "plt.scatter(x=df_features_test, y=target)\n",
    "plt.scatter(x=df_features_test, y=pred)\n",
    "plt.title(\"Total Cases Per Million vs target values and predicted values\")\n",
    "plt.xlabel(\"Total Cases Per Million\")\n",
    "plt.ylabel(\"Stringency Index\")"
   ]
  },
  {
   "cell_type": "code",
   "execution_count": 14,
   "metadata": {},
   "outputs": [
    {
     "name": "stdout",
     "output_type": "stream",
     "text": [
      "r2_value = 0.016764440933634606, mse_value = 74.96702247132153, mae_value = 0.2300245344372426\n"
     ]
    },
    {
     "data": {
      "text/plain": [
       "Text(0, 0.5, 'Stringency Index')"
      ]
     },
     "execution_count": 14,
     "metadata": {},
     "output_type": "execute_result"
    },
    {
     "data": {
      "image/png": "[encoded data removed]",
      "text/plain": [
       "<Figure size 432x288 with 1 Axes>"
      ]
     },
     "metadata": {
      "needs_background": "light"
     },
     "output_type": "display_data"
    }
   ],
   "source": [
    "r2_value, mse_value, mae_value, beta, pred, target, df_features_test = make_model(0.01,np.zeros((2, 1)),3300, 46, None, [\"new_deaths_smoothed_per_million\"])\n",
    "print(f\"r2_value = {r2_value}, mse_value = {mse_value}, mae_value = {mae_value}\")\n",
    "plt.scatter(x=df_features_test, y=target)\n",
    "plt.scatter(x=df_features_test, y=pred)\n",
    "plt.title(\"New Deaths Smoothed Per Million vs target values and predicted values\")\n",
    "plt.xlabel(\"New Deaths Smoothed Per Million\")\n",
    "plt.ylabel(\"Stringency Index\")"
   ]
  },
  {
   "cell_type": "code",
   "execution_count": 15,
   "metadata": {},
   "outputs": [
    {
     "name": "stdout",
     "output_type": "stream",
     "text": [
      "r2_value = -0.00017666717928621622, mse_value = 76.25870117524917, mae_value = 0.23002453443724244\n"
     ]
    },
    {
     "data": {
      "text/plain": [
       "Text(0, 0.5, 'Stringency Index')"
      ]
     },
     "execution_count": 15,
     "metadata": {},
     "output_type": "execute_result"
    },
    {
     "data": {
      "image/png": "[encoded data removed]",
      "text/plain": [
       "<Figure size 432x288 with 1 Axes>"
      ]
     },
     "metadata": {
      "needs_background": "light"
     },
     "output_type": "display_data"
    }
   ],
   "source": [
    "r2_value, mse_value, mae_value, beta, pred, target, df_features_test = make_model(0.01,np.zeros((2, 1)),3300, 46, None, [\"reproduction_rate\"])\n",
    "print(f\"r2_value = {r2_value}, mse_value = {mse_value}, mae_value = {mae_value}\")\n",
    "plt.scatter(x=df_features_test, y=target)\n",
    "plt.scatter(x=df_features_test, y=pred)\n",
    "plt.title(\"Reproduction Rate vs target values and predicted values\")\n",
    "plt.xlabel(\"Reproduction Rate\")\n",
    "plt.ylabel(\"Stringency Index\")"
   ]
  },
  {
   "cell_type": "code",
   "execution_count": 16,
   "metadata": {},
   "outputs": [
    {
     "name": "stdout",
     "output_type": "stream",
     "text": [
      "r2_value = 0.13754080851970163, mse_value = 65.75840040782866, mae_value = 0.2300245344372426\n"
     ]
    },
    {
     "data": {
      "text/plain": [
       "Text(0, 0.5, 'Stringency Index')"
      ]
     },
     "execution_count": 16,
     "metadata": {},
     "output_type": "execute_result"
    },
    {
     "data": {
      "image/png": "[encoded data removed]",
      "text/plain": [
       "<Figure size 432x288 with 1 Axes>"
      ]
     },
     "metadata": {
      "needs_background": "light"
     },
     "output_type": "display_data"
    }
   ],
   "source": [
    "r2_value, mse_value, mae_value, beta, pred, target, df_features_test = make_model(0.01,np.zeros((2, 1)),3300, 46, None, [\"new_tests_smoothed_per_thousand\"])\n",
    "print(f\"r2_value = {r2_value}, mse_value = {mse_value}, mae_value = {mae_value}\")\n",
    "plt.scatter(x=df_features_test, y=target)\n",
    "plt.scatter(x=df_features_test, y=pred)\n",
    "plt.title(\"New Tests Smoothed Per Thousand vs target values and predicted values\")\n",
    "plt.xlabel(\"New Tests Smoothed Per Thousand\")\n",
    "plt.ylabel(\"Stringency Index\")"
   ]
  },
  {
   "cell_type": "code",
   "execution_count": 17,
   "metadata": {},
   "outputs": [
    {
     "name": "stdout",
     "output_type": "stream",
     "text": [
      "r2_value = 0.05664315174774859, mse_value = 71.92646094752169, mae_value = 0.23002453443724227\n"
     ]
    },
    {
     "data": {
      "text/plain": [
       "Text(0, 0.5, 'Stringency Index')"
      ]
     },
     "execution_count": 17,
     "metadata": {},
     "output_type": "execute_result"
    },
    {
     "data": {
      "image/png": "[encoded data removed]",
      "text/plain": [
       "<Figure size 432x288 with 1 Axes>"
      ]
     },
     "metadata": {
      "needs_background": "light"
     },
     "output_type": "display_data"
    }
   ],
   "source": [
    "r2_value, mse_value, mae_value, beta, pred, target, df_features_test = make_model(0.01,np.zeros((2, 1)),3300, 46, None, [\"people_fully_vaccinated_per_hundred\"])\n",
    "print(f\"r2_value = {r2_value}, mse_value = {mse_value}, mae_value = {mae_value}\")\n",
    "plt.scatter(x=df_features_test, y=target)\n",
    "plt.scatter(x=df_features_test, y=pred)\n",
    "plt.title(\"People Vaccinated Per Hundred vs target values and predicted values\")\n",
    "plt.xlabel(\"Positive Rate\")\n",
    "plt.ylabel(\"Stringency Index\")"
   ]
  },
  {
   "cell_type": "code",
   "execution_count": 18,
   "metadata": {},
   "outputs": [
    {
     "name": "stdout",
     "output_type": "stream",
     "text": [
      "r2_value = 0.37501663271173313, mse_value = 47.652001300879775, mae_value = 0.2300245344372442\n"
     ]
    },
    {
     "data": {
      "text/plain": [
       "Text(0, 0.5, 'Stringency Index')"
      ]
     },
     "execution_count": 18,
     "metadata": {},
     "output_type": "execute_result"
    },
    {
     "data": {
      "image/png": "[encoded data removed]",
      "text/plain": [
       "<Figure size 432x288 with 1 Axes>"
      ]
     },
     "metadata": {
      "needs_background": "light"
     },
     "output_type": "display_data"
    }
   ],
   "source": [
    "r2_value, mse_value, mae_value, beta, pred, target, df_features_test = make_model(0.01,np.zeros((2, 1)),3300, 46, None, [\"positive_rate\"])\n",
    "print(f\"r2_value = {r2_value}, mse_value = {mse_value}, mae_value = {mae_value}\")\n",
    "plt.scatter(x=df_features_test, y=target)\n",
    "plt.scatter(x=df_features_test, y=pred)\n",
    "plt.title(\"Positive Rate vs target values and predicted values\")\n",
    "plt.xlabel(\"Positive Rate\")\n",
    "plt.ylabel(\"Stringency Index\")"
   ]
  },
  {
   "cell_type": "markdown",
   "metadata": {},
   "source": [
    "### From the above graphs and R<sup>2</sup> values, we can conclude that the above features generally follows a linear trend"
   ]
  },
  {
   "cell_type": "markdown",
   "metadata": {},
   "source": [
    "### Improving the Model\n",
    "\n",
    "Discuss any steps you can do to improve the models. Put any python codes. You can repeat the steps above with the codes to show the improvement in the accuracy. "
   ]
  },
  {
   "cell_type": "markdown",
   "metadata": {},
   "source": [
    "To further improve our model, we decided to create a new function that is able to take in parameters to selectively tweak certain parameters to allow us to compare a range of values more efficiently\n",
    "\n",
    "Here are the features that we used to evaluate our model:\n",
    "1. Entire Dataset vs Selective Dataset\n",
    "2. Alpha values\n",
    "3. Beta values\n",
    "4. Number of iterations\n",
    "5. Different features used for training"
   ]
  },
  {
   "cell_type": "markdown",
   "metadata": {},
   "source": [
    "### Include entire data set vs using only specific values "
   ]
  },
  {
   "cell_type": "code",
   "execution_count": 19,
   "metadata": {},
   "outputs": [
    {
     "name": "stdout",
     "output_type": "stream",
     "text": [
      "r2_value = 0.435563298045034, mse_value = 45.638099434916036, mae_value = 1.0298599595547575\n"
     ]
    }
   ],
   "source": [
    "## include entire dataset, consisting of all values\n",
    "r2_value, mse_value, mae_value, beta, pred, target, df_features_test = make_model(0.01,np.zeros((8, 1)),3300, 0, None)\n",
    "print(f\"r2_value = {r2_value}, mse_value = {mse_value}, mae_value = {mae_value}\")\n"
   ]
  },
  {
   "cell_type": "code",
   "execution_count": 20,
   "metadata": {},
   "outputs": [
    {
     "name": "stdout",
     "output_type": "stream",
     "text": [
      "r2_value = 0.8519373130537825, mse_value = 11.289073790212793, mae_value = 0.23002453443723622\n"
     ]
    }
   ],
   "source": [
    "## change in dataset to include only targeted dataset\n",
    "r2_value, mse_value, mae_value, beta, pred, target, df_features_test = make_model(0.01,np.zeros((8, 1)),3300, 46, None)\n",
    "print(f\"r2_value = {r2_value}, mse_value = {mse_value}, mae_value = {mae_value}\")"
   ]
  },
  {
   "cell_type": "markdown",
   "metadata": {},
   "source": [
    "### Testing Alpha Values"
   ]
  },
  {
   "cell_type": "code",
   "execution_count": 21,
   "metadata": {},
   "outputs": [
    {
     "data": {
      "text/html": [
       "<div>\n",
       "<style scoped>\n",
       "    .dataframe tbody tr th:only-of-type {\n",
       "        vertical-align: middle;\n",
       "    }\n",
       "\n",
       "    .dataframe tbody tr th {\n",
       "        vertical-align: top;\n",
       "    }\n",
       "\n",
       "    .dataframe thead th {\n",
       "        text-align: right;\n",
       "    }\n",
       "</style>\n",
       "<table border=\"1\" class=\"dataframe\">\n",
       "  <thead>\n",
       "    <tr style=\"text-align: right;\">\n",
       "      <th></th>\n",
       "      <th>alpha_range</th>\n",
       "      <th>r2_value_range</th>\n",
       "      <th>mse_value_range</th>\n",
       "      <th>mae_value_range</th>\n",
       "    </tr>\n",
       "  </thead>\n",
       "  <tbody>\n",
       "    <tr>\n",
       "      <th>0</th>\n",
       "      <td>0.001</td>\n",
       "      <td>0.747319</td>\n",
       "      <td>19.265738</td>\n",
       "      <td>2.172026</td>\n",
       "    </tr>\n",
       "    <tr>\n",
       "      <th>1</th>\n",
       "      <td>0.010</td>\n",
       "      <td>0.851937</td>\n",
       "      <td>11.289074</td>\n",
       "      <td>0.230025</td>\n",
       "    </tr>\n",
       "    <tr>\n",
       "      <th>2</th>\n",
       "      <td>0.050</td>\n",
       "      <td>0.851984</td>\n",
       "      <td>11.285510</td>\n",
       "      <td>0.230025</td>\n",
       "    </tr>\n",
       "    <tr>\n",
       "      <th>3</th>\n",
       "      <td>0.100</td>\n",
       "      <td>0.851984</td>\n",
       "      <td>11.285510</td>\n",
       "      <td>0.230025</td>\n",
       "    </tr>\n",
       "  </tbody>\n",
       "</table>\n",
       "</div>"
      ],
      "text/plain": [
       "   alpha_range  r2_value_range  mse_value_range  mae_value_range\n",
       "0        0.001        0.747319        19.265738         2.172026\n",
       "1        0.010        0.851937        11.289074         0.230025\n",
       "2        0.050        0.851984        11.285510         0.230025\n",
       "3        0.100        0.851984        11.285510         0.230025"
      ]
     },
     "metadata": {},
     "output_type": "display_data"
    },
    {
     "data": {
      "text/plain": [
       "[Text(0.5, 1.0, 'Model Metrics against alpha value'), Text(0, 0.5, '')]"
      ]
     },
     "execution_count": 21,
     "metadata": {},
     "output_type": "execute_result"
    },
    {
     "data": {
      "image/png": "[encoded data removed]",
      "text/plain": [
       "<Figure size 432x288 with 1 Axes>"
      ]
     },
     "metadata": {
      "needs_background": "light"
     },
     "output_type": "display_data"
    }
   ],
   "source": [
    "## test for changes to alpha value\n",
    "alpha_range = [0.001, 0.01, 0.05, 0.1]\n",
    "r2_value_range = []\n",
    "mse_value_range = []\n",
    "mae_value_range = []\n",
    "for i in alpha_range:\n",
    "    r2_value, mse_value, mae_value, beta, pred, target, df_features_test = make_model(i,np.zeros((8,1)),3300, 46, None)\n",
    "    r2_value_range.append(r2_value)\n",
    "    mse_value_range.append(mse_value)\n",
    "    mae_value_range.append(mae_value)\n",
    "data = pd.DataFrame(list(zip(alpha_range, r2_value_range, mse_value_range, mae_value_range)))\n",
    "data.columns = [\"alpha_range\", \"r2_value_range\", \"mse_value_range\", \"mae_value_range\"]\n",
    "display(data)\n",
    "sns.lineplot(data = data,x=\"alpha_range\", y=\"r2_value_range\", label = \"r^2\")\n",
    "sns.lineplot(data = data,x=\"alpha_range\", y=\"mse_value_range\", label = \"Mean Sqaured Error\")\n",
    "sns.lineplot(data = data,x=\"alpha_range\", y=\"mae_value_range\", label = \"Mean Absolute Error\").set(title=\"Model Metrics against alpha value\", ylabel = \"\")\n",
    "\n",
    "\n",
    "# r^2 and mse values become significantly more accurate after 0.01 alpha value"
   ]
  },
  {
   "cell_type": "markdown",
   "metadata": {},
   "source": [
    "### Testing Beta Values"
   ]
  },
  {
   "cell_type": "code",
   "execution_count": 22,
   "metadata": {},
   "outputs": [
    {
     "data": {
      "text/html": [
       "<div>\n",
       "<style scoped>\n",
       "    .dataframe tbody tr th:only-of-type {\n",
       "        vertical-align: middle;\n",
       "    }\n",
       "\n",
       "    .dataframe tbody tr th {\n",
       "        vertical-align: top;\n",
       "    }\n",
       "\n",
       "    .dataframe thead th {\n",
       "        text-align: right;\n",
       "    }\n",
       "</style>\n",
       "<table border=\"1\" class=\"dataframe\">\n",
       "  <thead>\n",
       "    <tr style=\"text-align: right;\">\n",
       "      <th></th>\n",
       "      <th>beta_range</th>\n",
       "      <th>r2_value_range</th>\n",
       "      <th>mse_value_range</th>\n",
       "      <th>mae_value_range</th>\n",
       "    </tr>\n",
       "  </thead>\n",
       "  <tbody>\n",
       "    <tr>\n",
       "      <th>0</th>\n",
       "      <td>[[0.0], [0.0], [0.0], [0.0], [0.0], [0.0], [0....</td>\n",
       "      <td>0.851937</td>\n",
       "      <td>11.289074</td>\n",
       "      <td>0.230025</td>\n",
       "    </tr>\n",
       "    <tr>\n",
       "      <th>1</th>\n",
       "      <td>[[1.0], [1.0], [1.0], [1.0], [1.0], [1.0], [1....</td>\n",
       "      <td>0.851927</td>\n",
       "      <td>11.289851</td>\n",
       "      <td>0.230025</td>\n",
       "    </tr>\n",
       "    <tr>\n",
       "      <th>2</th>\n",
       "      <td>[[5], [5], [5], [5], [5], [5], [5], [5]]</td>\n",
       "      <td>0.851886</td>\n",
       "      <td>11.292977</td>\n",
       "      <td>0.230025</td>\n",
       "    </tr>\n",
       "    <tr>\n",
       "      <th>3</th>\n",
       "      <td>[[10], [10], [10], [10], [10], [10], [10], [10]]</td>\n",
       "      <td>0.851834</td>\n",
       "      <td>11.296927</td>\n",
       "      <td>0.230025</td>\n",
       "    </tr>\n",
       "  </tbody>\n",
       "</table>\n",
       "</div>"
      ],
      "text/plain": [
       "                                          beta_range  r2_value_range  \\\n",
       "0  [[0.0], [0.0], [0.0], [0.0], [0.0], [0.0], [0....        0.851937   \n",
       "1  [[1.0], [1.0], [1.0], [1.0], [1.0], [1.0], [1....        0.851927   \n",
       "2           [[5], [5], [5], [5], [5], [5], [5], [5]]        0.851886   \n",
       "3   [[10], [10], [10], [10], [10], [10], [10], [10]]        0.851834   \n",
       "\n",
       "   mse_value_range  mae_value_range  \n",
       "0        11.289074         0.230025  \n",
       "1        11.289851         0.230025  \n",
       "2        11.292977         0.230025  \n",
       "3        11.296927         0.230025  "
      ]
     },
     "metadata": {},
     "output_type": "display_data"
    }
   ],
   "source": [
    "beta_range = [np.zeros((8,1)),np.ones((8,1)),np.full((8,1),5),np.full((8,1),10)]\n",
    "r2_value_range = []\n",
    "mse_value_range = []\n",
    "mae_value_range = []\n",
    "for i in beta_range:\n",
    "    r2_value, mse_value, mae_value, beta, pred, target, df_features_test = make_model(0.01,i,3300, 46, None)\n",
    "    r2_value_range.append(r2_value)\n",
    "    mse_value_range.append(mse_value)\n",
    "    mae_value_range.append(mae_value)\n",
    "data = pd.DataFrame(list(zip(beta_range, r2_value_range, mse_value_range, mae_value_range)))\n",
    "data.columns = [\"beta_range\", \"r2_value_range\", \"mse_value_range\", \"mae_value_range\"]\n",
    "display(data)\n",
    "# staring beta value makes little difference\n",
    "# mean squared error is the lowest when beta_range is np.zeros((8,1))"
   ]
  },
  {
   "cell_type": "markdown",
   "metadata": {},
   "source": [
    "### Testing Optimal Number of Iterations"
   ]
  },
  {
   "cell_type": "code",
   "execution_count": 23,
   "metadata": {},
   "outputs": [
    {
     "data": {
      "text/html": [
       "<div>\n",
       "<style scoped>\n",
       "    .dataframe tbody tr th:only-of-type {\n",
       "        vertical-align: middle;\n",
       "    }\n",
       "\n",
       "    .dataframe tbody tr th {\n",
       "        vertical-align: top;\n",
       "    }\n",
       "\n",
       "    .dataframe thead th {\n",
       "        text-align: right;\n",
       "    }\n",
       "</style>\n",
       "<table border=\"1\" class=\"dataframe\">\n",
       "  <thead>\n",
       "    <tr style=\"text-align: right;\">\n",
       "      <th></th>\n",
       "      <th>iterations_range</th>\n",
       "      <th>r2_value_range</th>\n",
       "      <th>mse_value_range</th>\n",
       "      <th>mae_value_range</th>\n",
       "    </tr>\n",
       "  </thead>\n",
       "  <tbody>\n",
       "    <tr>\n",
       "      <th>0</th>\n",
       "      <td>100</td>\n",
       "      <td>-4.339631</td>\n",
       "      <td>407.121423</td>\n",
       "      <td>19.534497</td>\n",
       "    </tr>\n",
       "    <tr>\n",
       "      <th>1</th>\n",
       "      <td>300</td>\n",
       "      <td>0.697973</td>\n",
       "      <td>23.028140</td>\n",
       "      <td>2.816431</td>\n",
       "    </tr>\n",
       "    <tr>\n",
       "      <th>2</th>\n",
       "      <td>500</td>\n",
       "      <td>0.828591</td>\n",
       "      <td>13.069085</td>\n",
       "      <td>0.576550</td>\n",
       "    </tr>\n",
       "    <tr>\n",
       "      <th>3</th>\n",
       "      <td>700</td>\n",
       "      <td>0.842572</td>\n",
       "      <td>12.003109</td>\n",
       "      <td>0.276452</td>\n",
       "    </tr>\n",
       "    <tr>\n",
       "      <th>4</th>\n",
       "      <td>900</td>\n",
       "      <td>0.847267</td>\n",
       "      <td>11.645144</td>\n",
       "      <td>0.236245</td>\n",
       "    </tr>\n",
       "    <tr>\n",
       "      <th>5</th>\n",
       "      <td>1100</td>\n",
       "      <td>0.849394</td>\n",
       "      <td>11.482969</td>\n",
       "      <td>0.230858</td>\n",
       "    </tr>\n",
       "    <tr>\n",
       "      <th>6</th>\n",
       "      <td>1300</td>\n",
       "      <td>0.850475</td>\n",
       "      <td>11.400575</td>\n",
       "      <td>0.230136</td>\n",
       "    </tr>\n",
       "    <tr>\n",
       "      <th>7</th>\n",
       "      <td>1500</td>\n",
       "      <td>0.851061</td>\n",
       "      <td>11.355872</td>\n",
       "      <td>0.230039</td>\n",
       "    </tr>\n",
       "    <tr>\n",
       "      <th>8</th>\n",
       "      <td>1700</td>\n",
       "      <td>0.851395</td>\n",
       "      <td>11.330430</td>\n",
       "      <td>0.230027</td>\n",
       "    </tr>\n",
       "    <tr>\n",
       "      <th>9</th>\n",
       "      <td>1900</td>\n",
       "      <td>0.851593</td>\n",
       "      <td>11.315337</td>\n",
       "      <td>0.230025</td>\n",
       "    </tr>\n",
       "    <tr>\n",
       "      <th>10</th>\n",
       "      <td>2100</td>\n",
       "      <td>0.851715</td>\n",
       "      <td>11.306026</td>\n",
       "      <td>0.230025</td>\n",
       "    </tr>\n",
       "    <tr>\n",
       "      <th>11</th>\n",
       "      <td>2300</td>\n",
       "      <td>0.851793</td>\n",
       "      <td>11.300065</td>\n",
       "      <td>0.230025</td>\n",
       "    </tr>\n",
       "    <tr>\n",
       "      <th>12</th>\n",
       "      <td>2500</td>\n",
       "      <td>0.851845</td>\n",
       "      <td>11.296110</td>\n",
       "      <td>0.230025</td>\n",
       "    </tr>\n",
       "    <tr>\n",
       "      <th>13</th>\n",
       "      <td>2700</td>\n",
       "      <td>0.851881</td>\n",
       "      <td>11.293399</td>\n",
       "      <td>0.230025</td>\n",
       "    </tr>\n",
       "    <tr>\n",
       "      <th>14</th>\n",
       "      <td>2900</td>\n",
       "      <td>0.851906</td>\n",
       "      <td>11.291485</td>\n",
       "      <td>0.230025</td>\n",
       "    </tr>\n",
       "    <tr>\n",
       "      <th>15</th>\n",
       "      <td>3100</td>\n",
       "      <td>0.851924</td>\n",
       "      <td>11.290100</td>\n",
       "      <td>0.230025</td>\n",
       "    </tr>\n",
       "    <tr>\n",
       "      <th>16</th>\n",
       "      <td>3300</td>\n",
       "      <td>0.851937</td>\n",
       "      <td>11.289074</td>\n",
       "      <td>0.230025</td>\n",
       "    </tr>\n",
       "    <tr>\n",
       "      <th>17</th>\n",
       "      <td>3500</td>\n",
       "      <td>0.851947</td>\n",
       "      <td>11.288300</td>\n",
       "      <td>0.230025</td>\n",
       "    </tr>\n",
       "    <tr>\n",
       "      <th>18</th>\n",
       "      <td>3700</td>\n",
       "      <td>0.851955</td>\n",
       "      <td>11.287709</td>\n",
       "      <td>0.230025</td>\n",
       "    </tr>\n",
       "    <tr>\n",
       "      <th>19</th>\n",
       "      <td>3900</td>\n",
       "      <td>0.851961</td>\n",
       "      <td>11.287251</td>\n",
       "      <td>0.230025</td>\n",
       "    </tr>\n",
       "    <tr>\n",
       "      <th>20</th>\n",
       "      <td>4100</td>\n",
       "      <td>0.851966</td>\n",
       "      <td>11.286893</td>\n",
       "      <td>0.230025</td>\n",
       "    </tr>\n",
       "    <tr>\n",
       "      <th>21</th>\n",
       "      <td>4300</td>\n",
       "      <td>0.851970</td>\n",
       "      <td>11.286611</td>\n",
       "      <td>0.230025</td>\n",
       "    </tr>\n",
       "    <tr>\n",
       "      <th>22</th>\n",
       "      <td>4600</td>\n",
       "      <td>0.851974</td>\n",
       "      <td>11.286295</td>\n",
       "      <td>0.230025</td>\n",
       "    </tr>\n",
       "    <tr>\n",
       "      <th>23</th>\n",
       "      <td>4800</td>\n",
       "      <td>0.851976</td>\n",
       "      <td>11.286138</td>\n",
       "      <td>0.230025</td>\n",
       "    </tr>\n",
       "    <tr>\n",
       "      <th>24</th>\n",
       "      <td>5000</td>\n",
       "      <td>0.851977</td>\n",
       "      <td>11.286012</td>\n",
       "      <td>0.230025</td>\n",
       "    </tr>\n",
       "    <tr>\n",
       "      <th>25</th>\n",
       "      <td>5200</td>\n",
       "      <td>0.851979</td>\n",
       "      <td>11.285912</td>\n",
       "      <td>0.230025</td>\n",
       "    </tr>\n",
       "    <tr>\n",
       "      <th>26</th>\n",
       "      <td>5400</td>\n",
       "      <td>0.851980</td>\n",
       "      <td>11.285831</td>\n",
       "      <td>0.230025</td>\n",
       "    </tr>\n",
       "    <tr>\n",
       "      <th>27</th>\n",
       "      <td>5600</td>\n",
       "      <td>0.851981</td>\n",
       "      <td>11.285767</td>\n",
       "      <td>0.230025</td>\n",
       "    </tr>\n",
       "  </tbody>\n",
       "</table>\n",
       "</div>"
      ],
      "text/plain": [
       "    iterations_range  r2_value_range  mse_value_range  mae_value_range\n",
       "0                100       -4.339631       407.121423        19.534497\n",
       "1                300        0.697973        23.028140         2.816431\n",
       "2                500        0.828591        13.069085         0.576550\n",
       "3                700        0.842572        12.003109         0.276452\n",
       "4                900        0.847267        11.645144         0.236245\n",
       "5               1100        0.849394        11.482969         0.230858\n",
       "6               1300        0.850475        11.400575         0.230136\n",
       "7               1500        0.851061        11.355872         0.230039\n",
       "8               1700        0.851395        11.330430         0.230027\n",
       "9               1900        0.851593        11.315337         0.230025\n",
       "10              2100        0.851715        11.306026         0.230025\n",
       "11              2300        0.851793        11.300065         0.230025\n",
       "12              2500        0.851845        11.296110         0.230025\n",
       "13              2700        0.851881        11.293399         0.230025\n",
       "14              2900        0.851906        11.291485         0.230025\n",
       "15              3100        0.851924        11.290100         0.230025\n",
       "16              3300        0.851937        11.289074         0.230025\n",
       "17              3500        0.851947        11.288300         0.230025\n",
       "18              3700        0.851955        11.287709         0.230025\n",
       "19              3900        0.851961        11.287251         0.230025\n",
       "20              4100        0.851966        11.286893         0.230025\n",
       "21              4300        0.851970        11.286611         0.230025\n",
       "22              4600        0.851974        11.286295         0.230025\n",
       "23              4800        0.851976        11.286138         0.230025\n",
       "24              5000        0.851977        11.286012         0.230025\n",
       "25              5200        0.851979        11.285912         0.230025\n",
       "26              5400        0.851980        11.285831         0.230025\n",
       "27              5600        0.851981        11.285767         0.230025"
      ]
     },
     "metadata": {},
     "output_type": "display_data"
    },
    {
     "data": {
      "text/plain": [
       "[Text(0.5, 1.0, 'Model Metrics against number of iterations'),\n",
       " Text(0, 0.5, '')]"
      ]
     },
     "execution_count": 23,
     "metadata": {},
     "output_type": "execute_result"
    },
    {
     "data": {
      "image/png": "[encoded data removed]",
      "text/plain": [
       "<Figure size 432x288 with 1 Axes>"
      ]
     },
     "metadata": {
      "needs_background": "light"
     },
     "output_type": "display_data"
    }
   ],
   "source": [
    "iterations_range = [100,300,500,700,900,1100,1300,1500,1700,1900,2100,2300,2500,2700,2900,3100,3300,3500,3700,3900,4100,4300,4600,4800,5000,5200,5400,5600]\n",
    "# change in number of iterations\n",
    "r2_value_range = []\n",
    "mse_value_range = []\n",
    "mae_value_range = []\n",
    "for i in iterations_range:\n",
    "    r2_value, mse_value, mae_value, beta, pred, target, df_features_test = make_model(0.01,np.zeros((8,1)), i, 46, None)\n",
    "    r2_value_range.append(r2_value)\n",
    "    mse_value_range.append(mse_value)\n",
    "    mae_value_range.append(mae_value)\n",
    "data = pd.DataFrame(list(zip(iterations_range, r2_value_range, mse_value_range, mae_value_range)))\n",
    "data.columns = [\"iterations_range\", \"r2_value_range\", \"mse_value_range\", \"mae_value_range\"]\n",
    "display(data)\n",
    "sns.lineplot(data = data,x=\"iterations_range\", y=\"r2_value_range\", label = \"r^2\")\n",
    "sns.lineplot(data = data,x=\"iterations_range\", y=\"mse_value_range\", label = \"Mean Squared Error\")\n",
    "sns.lineplot(data = data,x=\"iterations_range\", y=\"mae_value_range\", label = \"Mean Absolute Error\").set(title=\"Model Metrics against number of iterations\", ylabel = \"\")\n",
    "\n",
    "# r^2 and mse values become significantly more accurate after 300 iterations\n",
    "# to reach mse_value with accuracy of up to 2 d.p, you will need to reach 3300 iterations\n",
    "# iterations_range[16] = 3300 is where the value of mse becomes accurate to 2dp, r2 and mae is similar before that"
   ]
  },
  {
   "cell_type": "markdown",
   "metadata": {},
   "source": [
    "### Testing Optimal Features to Consider"
   ]
  },
  {
   "cell_type": "code",
   "execution_count": 24,
   "metadata": {},
   "outputs": [
    {
     "data": {
      "text/html": [
       "<div>\n",
       "<style scoped>\n",
       "    .dataframe tbody tr th:only-of-type {\n",
       "        vertical-align: middle;\n",
       "    }\n",
       "\n",
       "    .dataframe tbody tr th {\n",
       "        vertical-align: top;\n",
       "    }\n",
       "\n",
       "    .dataframe thead th {\n",
       "        text-align: right;\n",
       "    }\n",
       "</style>\n",
       "<table border=\"1\" class=\"dataframe\">\n",
       "  <thead>\n",
       "    <tr style=\"text-align: right;\">\n",
       "      <th></th>\n",
       "      <th>features_evaluated</th>\n",
       "      <th>r2_value_range</th>\n",
       "      <th>mse_value_range</th>\n",
       "      <th>mae_value_range</th>\n",
       "      <th>r2_value_change</th>\n",
       "      <th>mse_value_difference</th>\n",
       "      <th>mae_value_change</th>\n",
       "    </tr>\n",
       "  </thead>\n",
       "  <tbody>\n",
       "    <tr>\n",
       "      <th>0</th>\n",
       "      <td>total_cases</td>\n",
       "      <td>0.254293</td>\n",
       "      <td>53.668781</td>\n",
       "      <td>0.031019</td>\n",
       "      <td>NIL</td>\n",
       "      <td>NIL</td>\n",
       "      <td>NIL</td>\n",
       "    </tr>\n",
       "    <tr>\n",
       "      <th>1</th>\n",
       "      <td>new_cases</td>\n",
       "      <td>0.634051</td>\n",
       "      <td>26.337503</td>\n",
       "      <td>0.031019</td>\n",
       "      <td>0.379757</td>\n",
       "      <td>-27.331278</td>\n",
       "      <td>NSR</td>\n",
       "    </tr>\n",
       "    <tr>\n",
       "      <th>2</th>\n",
       "      <td>new_cases_smoothed</td>\n",
       "      <td>0.700802</td>\n",
       "      <td>21.533367</td>\n",
       "      <td>0.031019</td>\n",
       "      <td>NSR</td>\n",
       "      <td>-4.804137</td>\n",
       "      <td>NSR</td>\n",
       "    </tr>\n",
       "    <tr>\n",
       "      <th>3</th>\n",
       "      <td>total_deaths</td>\n",
       "      <td>0.763901</td>\n",
       "      <td>16.992118</td>\n",
       "      <td>0.031019</td>\n",
       "      <td>NSR</td>\n",
       "      <td>-4.541249</td>\n",
       "      <td>NSR</td>\n",
       "    </tr>\n",
       "    <tr>\n",
       "      <th>4</th>\n",
       "      <td>new_deaths</td>\n",
       "      <td>0.763923</td>\n",
       "      <td>16.990543</td>\n",
       "      <td>0.031019</td>\n",
       "      <td>NSR</td>\n",
       "      <td>NSR</td>\n",
       "      <td>NSR</td>\n",
       "    </tr>\n",
       "    <tr>\n",
       "      <th>5</th>\n",
       "      <td>new_deaths_smoothed</td>\n",
       "      <td>0.766198</td>\n",
       "      <td>16.826801</td>\n",
       "      <td>0.031019</td>\n",
       "      <td>NSR</td>\n",
       "      <td>NSR</td>\n",
       "      <td>NSR</td>\n",
       "    </tr>\n",
       "    <tr>\n",
       "      <th>6</th>\n",
       "      <td>total_cases_per_million</td>\n",
       "      <td>0.770817</td>\n",
       "      <td>16.494357</td>\n",
       "      <td>0.031019</td>\n",
       "      <td>NSR</td>\n",
       "      <td>NSR</td>\n",
       "      <td>NSR</td>\n",
       "    </tr>\n",
       "    <tr>\n",
       "      <th>7</th>\n",
       "      <td>new_cases_per_million</td>\n",
       "      <td>0.770738</td>\n",
       "      <td>16.500106</td>\n",
       "      <td>0.031019</td>\n",
       "      <td>NSR</td>\n",
       "      <td>NSR</td>\n",
       "      <td>NSR</td>\n",
       "    </tr>\n",
       "    <tr>\n",
       "      <th>8</th>\n",
       "      <td>new_cases_smoothed_per_million</td>\n",
       "      <td>0.770698</td>\n",
       "      <td>16.502936</td>\n",
       "      <td>0.031019</td>\n",
       "      <td>NSR</td>\n",
       "      <td>NSR</td>\n",
       "      <td>NSR</td>\n",
       "    </tr>\n",
       "    <tr>\n",
       "      <th>9</th>\n",
       "      <td>total_deaths_per_million</td>\n",
       "      <td>0.772648</td>\n",
       "      <td>16.362630</td>\n",
       "      <td>0.031019</td>\n",
       "      <td>NSR</td>\n",
       "      <td>NSR</td>\n",
       "      <td>NSR</td>\n",
       "    </tr>\n",
       "    <tr>\n",
       "      <th>10</th>\n",
       "      <td>new_deaths_per_million</td>\n",
       "      <td>0.772587</td>\n",
       "      <td>16.367006</td>\n",
       "      <td>0.031019</td>\n",
       "      <td>NSR</td>\n",
       "      <td>NSR</td>\n",
       "      <td>NSR</td>\n",
       "    </tr>\n",
       "    <tr>\n",
       "      <th>11</th>\n",
       "      <td>new_deaths_smoothed_per_million</td>\n",
       "      <td>0.771745</td>\n",
       "      <td>16.427603</td>\n",
       "      <td>0.031019</td>\n",
       "      <td>NSR</td>\n",
       "      <td>NSR</td>\n",
       "      <td>NSR</td>\n",
       "    </tr>\n",
       "    <tr>\n",
       "      <th>12</th>\n",
       "      <td>reproduction_rate</td>\n",
       "      <td>0.775161</td>\n",
       "      <td>16.181776</td>\n",
       "      <td>0.031019</td>\n",
       "      <td>NSR</td>\n",
       "      <td>NSR</td>\n",
       "      <td>NSR</td>\n",
       "    </tr>\n",
       "    <tr>\n",
       "      <th>13</th>\n",
       "      <td>new_tests_smoothed</td>\n",
       "      <td>0.842361</td>\n",
       "      <td>11.345302</td>\n",
       "      <td>0.031019</td>\n",
       "      <td>NSR</td>\n",
       "      <td>-4.836474</td>\n",
       "      <td>NSR</td>\n",
       "    </tr>\n",
       "    <tr>\n",
       "      <th>14</th>\n",
       "      <td>new_tests_smoothed_per_thousand</td>\n",
       "      <td>0.842794</td>\n",
       "      <td>11.314160</td>\n",
       "      <td>0.031019</td>\n",
       "      <td>NSR</td>\n",
       "      <td>NSR</td>\n",
       "      <td>NSR</td>\n",
       "    </tr>\n",
       "    <tr>\n",
       "      <th>15</th>\n",
       "      <td>positive_rate</td>\n",
       "      <td>0.825698</td>\n",
       "      <td>12.544563</td>\n",
       "      <td>0.031019</td>\n",
       "      <td>NSR</td>\n",
       "      <td>NSR</td>\n",
       "      <td>NSR</td>\n",
       "    </tr>\n",
       "    <tr>\n",
       "      <th>16</th>\n",
       "      <td>tests_per_case</td>\n",
       "      <td>0.826029</td>\n",
       "      <td>12.520785</td>\n",
       "      <td>0.031019</td>\n",
       "      <td>NSR</td>\n",
       "      <td>NSR</td>\n",
       "      <td>NSR</td>\n",
       "    </tr>\n",
       "  </tbody>\n",
       "</table>\n",
       "</div>"
      ],
      "text/plain": [
       "                 features_evaluated  r2_value_range  mse_value_range  \\\n",
       "0                       total_cases        0.254293        53.668781   \n",
       "1                         new_cases        0.634051        26.337503   \n",
       "2                new_cases_smoothed        0.700802        21.533367   \n",
       "3                      total_deaths        0.763901        16.992118   \n",
       "4                        new_deaths        0.763923        16.990543   \n",
       "5               new_deaths_smoothed        0.766198        16.826801   \n",
       "6           total_cases_per_million        0.770817        16.494357   \n",
       "7             new_cases_per_million        0.770738        16.500106   \n",
       "8    new_cases_smoothed_per_million        0.770698        16.502936   \n",
       "9          total_deaths_per_million        0.772648        16.362630   \n",
       "10           new_deaths_per_million        0.772587        16.367006   \n",
       "11  new_deaths_smoothed_per_million        0.771745        16.427603   \n",
       "12                reproduction_rate        0.775161        16.181776   \n",
       "13               new_tests_smoothed        0.842361        11.345302   \n",
       "14  new_tests_smoothed_per_thousand        0.842794        11.314160   \n",
       "15                    positive_rate        0.825698        12.544563   \n",
       "16                   tests_per_case        0.826029        12.520785   \n",
       "\n",
       "    mae_value_range r2_value_change mse_value_difference mae_value_change  \n",
       "0          0.031019             NIL                  NIL              NIL  \n",
       "1          0.031019        0.379757           -27.331278              NSR  \n",
       "2          0.031019             NSR            -4.804137              NSR  \n",
       "3          0.031019             NSR            -4.541249              NSR  \n",
       "4          0.031019             NSR                  NSR              NSR  \n",
       "5          0.031019             NSR                  NSR              NSR  \n",
       "6          0.031019             NSR                  NSR              NSR  \n",
       "7          0.031019             NSR                  NSR              NSR  \n",
       "8          0.031019             NSR                  NSR              NSR  \n",
       "9          0.031019             NSR                  NSR              NSR  \n",
       "10         0.031019             NSR                  NSR              NSR  \n",
       "11         0.031019             NSR                  NSR              NSR  \n",
       "12         0.031019             NSR                  NSR              NSR  \n",
       "13         0.031019             NSR            -4.836474              NSR  \n",
       "14         0.031019             NSR                  NSR              NSR  \n",
       "15         0.031019             NSR                  NSR              NSR  \n",
       "16         0.031019             NSR                  NSR              NSR  "
      ]
     },
     "metadata": {},
     "output_type": "display_data"
    }
   ],
   "source": [
    "# use different features to decide if it would improve MSE and r^2 values\n",
    "features_evaluated = [\"total_cases\",\"new_cases\",\"new_cases_smoothed\",\"total_deaths\",\"new_deaths\",\"new_deaths_smoothed\",\"total_cases_per_million\",\"new_cases_per_million\",\"new_cases_smoothed_per_million\",\"total_deaths_per_million\",\"new_deaths_per_million\",\"new_deaths_smoothed_per_million\",\"reproduction_rate\",\"new_tests_smoothed\",\"new_tests_smoothed_per_thousand\",\"positive_rate\",\"tests_per_case\", \"total_cases\"]\n",
    "r2_value_range = []\n",
    "mse_value_range = []\n",
    "mae_value_range = []\n",
    "for i in range(1,len(features_evaluated)):\n",
    "    # print(features_evaluated[i])\n",
    "    r2_value, mse_value, mae_value, beta, pred, target, df_features_test = make_model(0.01, np.zeros((i+1,1)), 3300, 46, None, features_evaluated[0:i], \"Data/Task 2/singapore_covid_data_total_feature.csv\")\n",
    "    r2_value_range.append(r2_value)\n",
    "    mse_value_range.append(mse_value)\n",
    "    mae_value_range.append(mae_value)\n",
    "\n",
    "# create new array for new col for mse change\n",
    "r2_value_change = [\"NIL\"]\n",
    "for value in range(1,len(r2_value_range)):\n",
    "    prev_value = r2_value_range[value-1]\n",
    "    current_value = r2_value_range[value]\n",
    "    difference_r2 = current_value - prev_value\n",
    "    if difference_r2 < 0.1:\n",
    "        difference_r2 = \"NSR\"\n",
    "    r2_value_change.append(difference_r2)\n",
    "# create new array for new col for mse change\n",
    "mse_value_change = [\"NIL\"]\n",
    "for value in range(1,len(mse_value_range)):\n",
    "    prev_value = mse_value_range[value-1]\n",
    "    current_value = mse_value_range[value]\n",
    "    difference_mse = current_value - prev_value\n",
    "    if difference_mse > -1:\n",
    "        difference_mse = \"NSR\"\n",
    "    mse_value_change.append(difference_mse)\n",
    "# create new array for new col for mae change\n",
    "mae_value_change = [\"NIL\"]\n",
    "for value in range(1,len(mae_value_range)):\n",
    "    prev_value_mae = mae_value_range[value-1]\n",
    "    current_value_mae = mae_value_range[value]\n",
    "    difference_mae = current_value_mae - prev_value_mae\n",
    "    if difference_mae > -1:\n",
    "        difference_mae = \"NSR\"\n",
    "    mae_value_change.append(difference_mae)\n",
    "    \n",
    "\n",
    "data = pd.DataFrame(list(zip(features_evaluated, r2_value_range, mse_value_range, mae_value_range,r2_value_change, mse_value_change, mae_value_change)))\n",
    "data.columns = [\"features_evaluated\", \"r2_value_range\", \"mse_value_range\", \"mae_value_range\",\"r2_value_change\", \"mse_value_difference\",\"mae_value_change\"]\n",
    "display(data)\n",
    "\n",
    "# NSR = No Significant Reduction"
   ]
  },
  {
   "cell_type": "markdown",
   "metadata": {},
   "source": [
    "### Discussion and Analysis\n",
    "\n",
    "Discuss your model and accuracy in solving the problem. Analyze the results of your metrics. Put any conclusion here."
   ]
  },
  {
   "cell_type": "markdown",
   "metadata": {},
   "source": [
    "## As shown in the table above, certain features does not result in a significant difference. Having additional features also adds to the computational complexity of the model, thus we remove such features.\n"
   ]
  },
  {
   "cell_type": "markdown",
   "metadata": {},
   "source": [
    "#### Features that result in a significant difference are:\n",
    "1. total_cases\n",
    "2. new_cases\n",
    "3. new_cases_smoothed\n",
    "4. total_deaths\n",
    "5. new_tests_smoothed\n",
    "\n",
    "In such cases where many features result in no/very little reduction in the mean squared error of the model, we do not include it into our model as every feature considered will result in additional computational complexity, which would require a significantly higher amount of resources as the model gets larger.\n",
    "\n",
    "Moreover, using only these 5 features also resulted in a Mean Absolute Value (0.031) that is lower than our initial model (0.230).\n",
    "\n",
    "It is important that we optimise our model using the least amount of features to only include those that will siginificantly affect our model and to reduce our computational complexity."
   ]
  },
  {
   "cell_type": "code",
   "execution_count": 25,
   "metadata": {},
   "outputs": [
    {
     "name": "stdout",
     "output_type": "stream",
     "text": [
      "r2_value = 0.784247704602924, mse_value = 15.52777210035001, mae_value = 0.031019214703775083\n"
     ]
    }
   ],
   "source": [
    "r2_value, mse_value, mae_value, beta, pred, target, df_features_test = make_model(0.01, np.zeros((6,1)), 3300, 46, None, [\"total_cases\",\"new_cases\", \"new_cases_smoothed\", \"total_deaths\",\"new_tests_smoothed\"],\"Data/Task 2/singapore_covid_data_total_feature.csv\")\n",
    "print(f\"r2_value = {r2_value}, mse_value = {mse_value}, mae_value = {mae_value}\")"
   ]
  },
  {
   "cell_type": "code",
   "execution_count": 26,
   "metadata": {},
   "outputs": [
    {
     "name": "stdout",
     "output_type": "stream",
     "text": [
      "r2_value = 0.8519373130537825, mse_value = 11.289073790212793, mae_value = 0.23002453443723622\n"
     ]
    }
   ],
   "source": [
    "alpha = 0.01\n",
    "iterations = 3300\n",
    "beta = np.zeros((8,1))\n",
    "\n",
    "r2_value, mse_value, mae_value, beta, pred, target, df_features_test = make_model(alpha, beta, iterations)\n",
    "print(f\"r2_value = {r2_value}, mse_value = {mse_value}, mae_value = {mae_value}\")"
   ]
  },
  {
   "cell_type": "markdown",
   "metadata": {},
   "source": [
    "# Therefore, we conclude that to obtain an accurate model in large datasets we should use the improved model. However, if we are given less datasets and we can afford the computational complexity, we can afford to use our initial model which is more accurate to obtain our prediction results"
   ]
  },
  {
   "cell_type": "markdown",
   "metadata": {},
   "source": [
    "## Create function to test model through input values\n",
    "\n",
    "- Since we are working with a small dataset, time complexity and computational complexity would make little difference, it would be logical to use the initial model which is more accurate"
   ]
  },
  {
   "cell_type": "code",
   "execution_count": 27,
   "metadata": {
    "collapsed": true
   },
   "outputs": [],
   "source": [
    "dataset_main = pd.read_csv(\"Data/Task 2/Singapore_Covid_Data_csv.csv\")\n",
    "def col_normalized( feature, value,dataset = dataset_main):\n",
    "    norm_val = (value - dataset[feature].mean(axis=0)) / dataset[feature].std(axis=0)\n",
    "    return norm_val\n",
    "\n",
    "features_input = [col_normalized(\"new_cases_smoothed_per_million\", 24.597), col_normalized(\"total_cases_per_million\", 11423.83),col_normalized(\"new_deaths_smoothed_per_million\", 0.026),col_normalized(\"reproduction_rate\", 1.91),col_normalized(\"new_tests_smoothed_per_thousand\", 12.81),col_normalized(\"people_fully_vaccinated_per_hundred\",53.13),col_normalized(\"positive_rate\", 0.002)]\n",
    "\n",
    "# Predict model using normalized features\n",
    "def predict_model1(features_input):\n",
    "    sum = 0\n",
    "    sum += beta[0]\n",
    "    for i in range(1,len(beta)):\n",
    "        sum += beta[i]*features_input[i-1]\n",
    "    return sum[0]"
   ]
  },
  {
   "cell_type": "code",
   "execution_count": 28,
   "metadata": {},
   "outputs": [
    {
     "data": {
      "text/plain": [
       "51.030254544769285"
      ]
     },
     "execution_count": 28,
     "metadata": {},
     "output_type": "execute_result"
    }
   ],
   "source": [
    "predict_model1(features_input)"
   ]
  }
 ],
 "metadata": {
  "kernelspec": {
   "display_name": "Python 3 [3.7]",
   "language": "python",
   "name": "python3"
  },
  "language_info": {
   "codemirror_mode": {
    "name": "ipython",
    "version": 3
   },
   "file_extension": ".py",
   "mimetype": "text/x-python",
   "name": "python",
   "nbconvert_exporter": "python",
   "pygments_lexer": "ipython3",
   "version": "3.7.5"
  }
 },
 "nbformat": 4,
 "nbformat_minor": 4
}
