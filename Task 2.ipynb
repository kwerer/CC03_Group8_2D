{
 "cells": [
  {
   "cell_type": "markdown",
   "id": "caeb84a9",
   "metadata": {},
   "source": [
    "## Discover\n",
    "\n",
    "1. covid presents us with new challenges\n",
    "2. we need to be able to adapt to the ever changing conditions that we are presented with\n",
    "3. to do so, we need to be able to know when is the ideal time to start our ideas and seize the opportunities in this uncertain time (model uncertain timings hehhehe)"
   ]
  },
  {
   "cell_type": "markdown",
   "id": "6446d747",
   "metadata": {},
   "source": [
    "## Define\n",
    "\n",
    "1. Singapore, where we are the most familiar with.\n",
    "2. When are we able to open up our economy given our government's stance, number of cases, vaccination rates\n",
    "3. When are we able to flatten the curve"
   ]
  },
  {
   "cell_type": "markdown",
   "id": "039c7f4d",
   "metadata": {},
   "source": [
    "## Develop\n",
    "\n",
    "1. To do so, we can come up with a multiple linear regression model to calculate what would the stringency index be to allow ease of business and daily activities\n",
    "2. This will allow opportunity seekers to have a good idea of when Singapore is able to flatten the curve and resume normal life"
   ]
  },
  {
   "cell_type": "markdown",
   "id": "d378a8b4",
   "metadata": {},
   "source": [
    "## Deliver\n",
    "\n",
    "1. Provide a model for users to key in various parameters and calculate the current expected stringency index"
   ]
  },
  {
   "cell_type": "markdown",
   "id": "8905ab3b",
   "metadata": {},
   "source": [
    "## Problem Statement\n",
    "\n",
    "### Given a rise in covid-19 cases, the Singaporean Government would always take the necessary precautions to prevent an unpreceeded rise in COVID-19 transmission. This increases the Stringency Index significantly as workplaces, schools closes. In such a case, what would the stringency index of Singapore be?"
   ]
  },
  {
   "cell_type": "markdown",
   "id": "55957f48",
   "metadata": {},
   "source": [
    "#### Start with importing Data that outlines Singapore's Covid-19 response\n",
    "\n",
    "### Data\n",
    "\n",
    "#### Link to data source: https://github.com/owid/covid-19-data/tree/master/public/data\n",
    "\n",
    "#### Why is this data used?\n",
    "1. Sources are clearly documented, for example, all data under Singapore comes directly from Ministry of Health, Singapore, which ensures that data is accurate and not tweaked or false\n",
    "2. Contains very little missing values and it updated daily\n",
    "    - Ensures that the data given is current with little errors\n",
    "    - Missing data is filled using growth trendline analysis using excel\n",
    "   - Ensures a growth trend in data such as vaccinations rates using values before and after, which can only be increasing\n",
    "3. Provides a large variety of parameters\n",
    "    - Ensures that we have a diverse range of parameters to accurately train our model\n",
    "    - Provides smoothed values to ensure no abnormal values\n",
    "      - 0 vaccinations prior to discovery of vaccinations and deflivery to Singapore on 31 Dec 2020\n",
    "\n",
    "#### Model\n",
    "\n",
    "Features considered:\n",
    "1. new_cases_smoothed_per_million\n",
    "    - The number of new cases directly corresponds to the community transmission of COVID-19, giving a clear indication of the prevalence of virus in the community\n",
    "    - Higher number of new cases signals high transmission rates in the community, leading to higher stringency index to keep new cases low\n",
    "2. total_cases_per_millon\n",
    "    - Total numnber of infected individuals is an indication of how many people in the community have natural immunity to COVID-19\n",
    "    - Higher total cases will lead to herd immnunity, leading to lower stringency index\n",
    "3. new_deaths_smoothed_per_million\n",
    "    - Indicates the number of new deaths, an important indicator that is in line with Singapore's stance to be COVID resilient with keeping daily death rates low\n",
    "    - Higher death rates will signal that the virus is becoming more deadly, leading to a higher stringency index to keep people safe\n",
    "4. new_tests_smoothed_per_thousand\n",
    "    - Indicates the number of test done each day, a higher number of testing done will help to ensure that positive cases are picked up earlier and therefore isolated and reduce the spread of the virus\n",
    "    - Higher number of new tests will lower transmissibility leading to stringency index lowering\n",
    "5. positive_rate\n",
    "    - Indicates the percentage of test done that are positive, will give an indication of how many cases are there in the community that is transmitted without being picked up\n",
    "    - Higher postive rates with higher reservoir of undetected cases will lead to stringency index increasing\n",
    "6. people_fully_vaccinated_per_hundred\n",
    "    - Indicates how many people are fully vaccinated and therefore lowering the chances of death as well as having a shorter infectious period, leading to slower transmission rates\n",
    "    - Higher vaccination rates gives lower death rate and lower transmissibility will likely lead to lower stringency index\n",
    "\n",
    "- Perform various test to ensure we find the optimal alpha value (learning rate), beta value (starting weight) and number of iterations (times gradient descent is performed)\n",
    "\n",
    "\n",
    "#### Model Evaluation\n",
    "\n",
    "1. Mean Squared Error\n",
    "2. R<sup>2</sup> value\n",
    "\n",
    "\n",
    "      \n"
   ]
  },
  {
   "cell_type": "code",
   "execution_count": 163,
   "id": "67675b8f",
   "metadata": {},
   "outputs": [
    {
     "data": {
      "text/html": [
       "<div>\n",
       "<style scoped>\n",
       "    .dataframe tbody tr th:only-of-type {\n",
       "        vertical-align: middle;\n",
       "    }\n",
       "\n",
       "    .dataframe tbody tr th {\n",
       "        vertical-align: top;\n",
       "    }\n",
       "\n",
       "    .dataframe thead th {\n",
       "        text-align: right;\n",
       "    }\n",
       "</style>\n",
       "<table border=\"1\" class=\"dataframe\">\n",
       "  <thead>\n",
       "    <tr style=\"text-align: right;\">\n",
       "      <th></th>\n",
       "      <th>location</th>\n",
       "      <th>date</th>\n",
       "      <th>new_cases_smoothed_per_million</th>\n",
       "      <th>total_cases_per_million</th>\n",
       "      <th>new_deaths_smoothed_per_million</th>\n",
       "      <th>reproduction_rate</th>\n",
       "      <th>new_tests_smoothed_per_thousand</th>\n",
       "      <th>positive_rate</th>\n",
       "      <th>people_fully_vaccinated_per_hundred</th>\n",
       "      <th>stringency_index</th>\n",
       "    </tr>\n",
       "  </thead>\n",
       "  <tbody>\n",
       "    <tr>\n",
       "      <th>0</th>\n",
       "      <td>Singapore</td>\n",
       "      <td>1/3/2020</td>\n",
       "      <td>0.445</td>\n",
       "      <td>0.183</td>\n",
       "      <td>0.000</td>\n",
       "      <td>0.56</td>\n",
       "      <td>0.000</td>\n",
       "      <td>0.000</td>\n",
       "      <td>0.000</td>\n",
       "      <td>30.56</td>\n",
       "    </tr>\n",
       "    <tr>\n",
       "      <th>1</th>\n",
       "      <td>Singapore</td>\n",
       "      <td>2/3/2020</td>\n",
       "      <td>0.498</td>\n",
       "      <td>0.550</td>\n",
       "      <td>0.000</td>\n",
       "      <td>0.54</td>\n",
       "      <td>0.000</td>\n",
       "      <td>0.000</td>\n",
       "      <td>0.000</td>\n",
       "      <td>30.56</td>\n",
       "    </tr>\n",
       "    <tr>\n",
       "      <th>2</th>\n",
       "      <td>Singapore</td>\n",
       "      <td>3/3/2020</td>\n",
       "      <td>0.498</td>\n",
       "      <td>0.550</td>\n",
       "      <td>0.000</td>\n",
       "      <td>0.53</td>\n",
       "      <td>0.000</td>\n",
       "      <td>0.000</td>\n",
       "      <td>0.000</td>\n",
       "      <td>30.56</td>\n",
       "    </tr>\n",
       "    <tr>\n",
       "      <th>3</th>\n",
       "      <td>Singapore</td>\n",
       "      <td>4/3/2020</td>\n",
       "      <td>0.445</td>\n",
       "      <td>0.733</td>\n",
       "      <td>0.000</td>\n",
       "      <td>0.57</td>\n",
       "      <td>0.000</td>\n",
       "      <td>0.000</td>\n",
       "      <td>0.000</td>\n",
       "      <td>30.56</td>\n",
       "    </tr>\n",
       "    <tr>\n",
       "      <th>4</th>\n",
       "      <td>Singapore</td>\n",
       "      <td>5/3/2020</td>\n",
       "      <td>0.629</td>\n",
       "      <td>0.917</td>\n",
       "      <td>0.000</td>\n",
       "      <td>0.73</td>\n",
       "      <td>0.000</td>\n",
       "      <td>0.000</td>\n",
       "      <td>0.000</td>\n",
       "      <td>30.56</td>\n",
       "    </tr>\n",
       "    <tr>\n",
       "      <th>...</th>\n",
       "      <td>...</td>\n",
       "      <td>...</td>\n",
       "      <td>...</td>\n",
       "      <td>...</td>\n",
       "      <td>...</td>\n",
       "      <td>...</td>\n",
       "      <td>...</td>\n",
       "      <td>...</td>\n",
       "      <td>...</td>\n",
       "      <td>...</td>\n",
       "    </tr>\n",
       "    <tr>\n",
       "      <th>609</th>\n",
       "      <td>Singapore</td>\n",
       "      <td>31/10/2021</td>\n",
       "      <td>673.998</td>\n",
       "      <td>15193.634</td>\n",
       "      <td>0.288</td>\n",
       "      <td>0.97</td>\n",
       "      <td>4.130</td>\n",
       "      <td>0.163</td>\n",
       "      <td>86.405</td>\n",
       "      <td>44.44</td>\n",
       "    </tr>\n",
       "    <tr>\n",
       "      <th>610</th>\n",
       "      <td>Singapore</td>\n",
       "      <td>1/11/2021</td>\n",
       "      <td>655.556</td>\n",
       "      <td>15496.186</td>\n",
       "      <td>0.367</td>\n",
       "      <td>0.94</td>\n",
       "      <td>4.130</td>\n",
       "      <td>0.159</td>\n",
       "      <td>86.445</td>\n",
       "      <td>44.44</td>\n",
       "    </tr>\n",
       "    <tr>\n",
       "      <th>611</th>\n",
       "      <td>Singapore</td>\n",
       "      <td>2/11/2021</td>\n",
       "      <td>661.293</td>\n",
       "      <td>15760.782</td>\n",
       "      <td>0.419</td>\n",
       "      <td>0.92</td>\n",
       "      <td>3.976</td>\n",
       "      <td>0.166</td>\n",
       "      <td>86.485</td>\n",
       "      <td>44.44</td>\n",
       "    </tr>\n",
       "    <tr>\n",
       "      <th>612</th>\n",
       "      <td>Singapore</td>\n",
       "      <td>3/11/2021</td>\n",
       "      <td>617.050</td>\n",
       "      <td>16116.327</td>\n",
       "      <td>0.472</td>\n",
       "      <td>0.90</td>\n",
       "      <td>3.822</td>\n",
       "      <td>0.161</td>\n",
       "      <td>86.525</td>\n",
       "      <td>44.44</td>\n",
       "    </tr>\n",
       "    <tr>\n",
       "      <th>613</th>\n",
       "      <td>Singapore</td>\n",
       "      <td>4/11/2021</td>\n",
       "      <td>605.812</td>\n",
       "      <td>16418.329</td>\n",
       "      <td>0.472</td>\n",
       "      <td>0.88</td>\n",
       "      <td>3.667</td>\n",
       "      <td>0.165</td>\n",
       "      <td>86.565</td>\n",
       "      <td>44.44</td>\n",
       "    </tr>\n",
       "  </tbody>\n",
       "</table>\n",
       "<p>614 rows × 10 columns</p>\n",
       "</div>"
      ],
      "text/plain": [
       "      location        date  new_cases_smoothed_per_million  \\\n",
       "0    Singapore    1/3/2020                           0.445   \n",
       "1    Singapore    2/3/2020                           0.498   \n",
       "2    Singapore    3/3/2020                           0.498   \n",
       "3    Singapore    4/3/2020                           0.445   \n",
       "4    Singapore    5/3/2020                           0.629   \n",
       "..         ...         ...                             ...   \n",
       "609  Singapore  31/10/2021                         673.998   \n",
       "610  Singapore   1/11/2021                         655.556   \n",
       "611  Singapore   2/11/2021                         661.293   \n",
       "612  Singapore   3/11/2021                         617.050   \n",
       "613  Singapore   4/11/2021                         605.812   \n",
       "\n",
       "     total_cases_per_million  new_deaths_smoothed_per_million  \\\n",
       "0                      0.183                            0.000   \n",
       "1                      0.550                            0.000   \n",
       "2                      0.550                            0.000   \n",
       "3                      0.733                            0.000   \n",
       "4                      0.917                            0.000   \n",
       "..                       ...                              ...   \n",
       "609                15193.634                            0.288   \n",
       "610                15496.186                            0.367   \n",
       "611                15760.782                            0.419   \n",
       "612                16116.327                            0.472   \n",
       "613                16418.329                            0.472   \n",
       "\n",
       "     reproduction_rate  new_tests_smoothed_per_thousand  positive_rate  \\\n",
       "0                 0.56                            0.000          0.000   \n",
       "1                 0.54                            0.000          0.000   \n",
       "2                 0.53                            0.000          0.000   \n",
       "3                 0.57                            0.000          0.000   \n",
       "4                 0.73                            0.000          0.000   \n",
       "..                 ...                              ...            ...   \n",
       "609               0.97                            4.130          0.163   \n",
       "610               0.94                            4.130          0.159   \n",
       "611               0.92                            3.976          0.166   \n",
       "612               0.90                            3.822          0.161   \n",
       "613               0.88                            3.667          0.165   \n",
       "\n",
       "     people_fully_vaccinated_per_hundred  stringency_index  \n",
       "0                                  0.000             30.56  \n",
       "1                                  0.000             30.56  \n",
       "2                                  0.000             30.56  \n",
       "3                                  0.000             30.56  \n",
       "4                                  0.000             30.56  \n",
       "..                                   ...               ...  \n",
       "609                               86.405             44.44  \n",
       "610                               86.445             44.44  \n",
       "611                               86.485             44.44  \n",
       "612                               86.525             44.44  \n",
       "613                               86.565             44.44  \n",
       "\n",
       "[614 rows x 10 columns]"
      ]
     },
     "metadata": {},
     "output_type": "display_data"
    }
   ],
   "source": [
    "import pandas as pd\n",
    "import matplotlib.pyplot as plt\n",
    "import seaborn as sns\n",
    "import numpy as np\n",
    "\n",
    "# data here is filled with growth trendline analysis using excel and 0's where places are obvious\n",
    "df = pd.read_csv(\"Data/Singapore_Covid_Data_csv.csv\")\n",
    "display(df)"
   ]
  },
  {
   "cell_type": "markdown",
   "id": "12ce2cbb",
   "metadata": {},
   "source": [
    "## Multiple Linear Regression"
   ]
  },
  {
   "cell_type": "code",
   "execution_count": 179,
   "id": "227a5e18",
   "metadata": {},
   "outputs": [],
   "source": [
    "# functions from cohort and homework week 9\n",
    "\n",
    "def normalize_z(df):\n",
    "    return ((df - df.mean(axis=0))/df.std(axis=0))\n",
    "\n",
    "def get_features_targets(df, feature_names, target_names):\n",
    "    # get df of selected features\n",
    "    df_feature = df[feature_names]\n",
    "    # get df of selected targets\n",
    "    df_target = df[target_names]\n",
    "    return df_feature, df_target\n",
    "\n",
    "def prepare_feature(df_feature):\n",
    "    # number of columns in the dataframe\n",
    "    cols = len(df_feature.columns)\n",
    "    # convert df to numpy\n",
    "    feature = df_feature.to_numpy().reshape(-1,cols)\n",
    "    array = np.concatenate((np.ones((feature.shape[0],1)), feature), axis = 1)\n",
    "    return array\n",
    "\n",
    "def prepare_target(df_target):\n",
    "    cols = len(df_target.columns)\n",
    "    target = df_target.to_numpy().reshape(-1,cols)\n",
    "    return target\n",
    "\n",
    "def predict(df_feature, beta):\n",
    "    df_feature = normalize_z(df_feature)\n",
    "    preped_feature = prepare_feature(df_feature)\n",
    "    return predict_norm(preped_feature, beta)\n",
    "\n",
    "def predict_norm(X, beta):\n",
    "    return np.matmul(X,beta)\n",
    "\n",
    "def split_data(df_feature, df_target, random_state=100, test_size=0.3):\n",
    "    indexes = df_feature.index\n",
    "    if random_state != None:\n",
    "        np.random.seed(random_state)\n",
    "    k = int(test_size * len(indexes))\n",
    "    test_index = np.random.choice(indexes, k, replace=False)\n",
    "    indexes = set(indexes)\n",
    "    test_index = set(test_index)\n",
    "    train_index = indexes - test_index\n",
    "    # the above indexes just helps you to get random indexes within the entire data\n",
    "    df_feature_train = df_feature.loc[train_index, :]\n",
    "    df_feature_test = df_feature.loc[test_index, :]\n",
    "    df_target_train = df_target.loc[train_index, :]\n",
    "    df_target_test = df_target.loc[test_index, :]\n",
    "    \n",
    "    return df_feature_train, df_feature_test, df_target_train, df_target_test\n",
    "  \n",
    "def r2_score(y, ypred):\n",
    "    ss_res = np.sum((y-ypred)**2)\n",
    "    y_mean = np.mean(y)\n",
    "    ss_tot = np.sum((y-y_mean)**2)\n",
    "    r_2 = (1-(ss_res/ss_tot))\n",
    "    return r_2\n",
    "\n",
    "def mean_squared_error(target, pred):\n",
    "    num_data = target.shape[0]\n",
    "    return (1/num_data)*(np.sum((target-pred)**2))\n",
    "\n",
    "def compute_cost(X, y, beta): #beta is weighted values, in this case it is just choosen from random values\n",
    "    J = 0\n",
    "    number_of_samples = X.shape[0]\n",
    "    error = np.matmul(X, beta) - y\n",
    "    error_sq = np.matmul(error.T, error)\n",
    "    J = (1)/(2*number_of_samples) * error_sq \n",
    "    J = J[0][0]\n",
    "    return J\n",
    "\n",
    "def gradient_descent(X, y, beta, alpha, num_iters):\n",
    "    number_of_samples = X.shape[0]\n",
    "    J_storage = []\n",
    "    for i in range(num_iters):\n",
    "        derivative_error = (1/(number_of_samples)) * np.matmul(X.T, (np.matmul(X, beta) - y))\n",
    "        beta = beta - alpha *  derivative_error\n",
    "        J_storage.append(compute_cost(X, y, beta))\n",
    "    return beta, J_storage"
   ]
  },
  {
   "cell_type": "markdown",
   "id": "8a1af8ad",
   "metadata": {},
   "source": [
    "1. Instantiate values for alpha, beta and number of iterations\n",
    "\n",
    "* These numbers are calculated to ensure accuaracy of our model"
   ]
  },
  {
   "cell_type": "code",
   "execution_count": 180,
   "id": "9c0d6713",
   "metadata": {},
   "outputs": [],
   "source": [
    "# Instantiate default values for alpha, beta and number of iterations\n",
    "alpha = 0.01\n",
    "iterations = 5200\n",
    "beta = np.ones((8,1))\n"
   ]
  },
  {
   "cell_type": "markdown",
   "id": "9ad7fb47",
   "metadata": {},
   "source": [
    "1. Extract from data our features and targets\n",
    "2. Split data into training and testing for both features and target\n",
    "3. Normalize features training data using <code>normalize_z()</code>\n",
    "4. Prepare training features and target for gradient descent to find out beta values\n",
    "5. Run <code>gradient_descent()</code> to find optimal beta values\n",
    "6. Run <code>predict()</code> to get target test values and save it into variable <code>pred</code>"
   ]
  },
  {
   "cell_type": "code",
   "execution_count": 181,
   "id": "7ff7c360",
   "metadata": {},
   "outputs": [],
   "source": [
    "# Extract the features and the target\n",
    "df_features_original_train, df_target = get_features_targets(df.loc[46:None,:],[\"new_cases_smoothed_per_million\",\"total_cases_per_million\",\"new_deaths_smoothed_per_million\", \"reproduction_rate\", \"new_tests_smoothed_per_thousand\",\"people_fully_vaccinated_per_hundred\",\"positive_rate\"],[\"stringency_index\"])\n",
    "\n",
    "# Split the data set into training and test\n",
    "df_features_train, df_features_test, df_target_train, df_target_test = split_data(df_features_original_train,df_target,100,0.3)\n",
    "\n",
    "# Normalize the features using z normalization\n",
    "df_features_train_z = normalize_z(df_features_train)\n",
    "\n",
    "# Change the features and the target to numpy array using the prepare functions\n",
    "X = prepare_feature(df_features_train_z)\n",
    "target = prepare_target(df_target_train)\n",
    "\n",
    "# Call the gradient_descent function\n",
    "beta, J_storage = gradient_descent(X, target, beta, alpha, iterations)\n",
    "\n",
    "# call the predict() method\n",
    "pred = predict(df_features_test,beta)"
   ]
  },
  {
   "cell_type": "markdown",
   "id": "1cf48866",
   "metadata": {},
   "source": [
    "1. Prepare target testing values to be compared with <code>pred</code> variable from above\n",
    "2. Run <code>r2_score()</code> to calculate the r<sup>2</sup> value \n",
    "3. Run <code>mean_squared_error()</code> to calculate the Mean Squared Error"
   ]
  },
  {
   "cell_type": "code",
   "execution_count": 182,
   "id": "e10a0b1c",
   "metadata": {},
   "outputs": [
    {
     "name": "stdout",
     "output_type": "stream",
     "text": [
      "r^2 value: 0.8519783840021952\n",
      "Mean Squared Error: 11.285942326257713\n"
     ]
    }
   ],
   "source": [
    "# change target test set to a numpy array\n",
    "target = prepare_target(df_target_test)\n",
    "\n",
    "# Calculate r2 score by calling a function\n",
    "r2 = r2_score(target, pred)\n",
    "print(\"r^2 value:\" , r2)\n",
    "\n",
    "# Calculate the mse\n",
    "mse = mean_squared_error(target, pred)\n",
    "print(\"Mean Squared Error:\", mse)"
   ]
  },
  {
   "cell_type": "markdown",
   "id": "c0352c38",
   "metadata": {},
   "source": [
    "### Model Evaluation\n",
    "\n",
    "To further improve our model, we decided to create a new function that is able to take in parameters to selectively tweak certain parameters to allow us to compare a range of values more efficiently\n",
    "\n",
    "Here are the features that we used to evaluate our model:\n",
    "1. Entire Dataset vs Selective Dataset\n",
    "2. Alpha values\n",
    "3. Beta values\n",
    "4. Number of iterations\n",
    "5. Different features used for training"
   ]
  },
  {
   "cell_type": "code",
   "execution_count": 183,
   "id": "fa8ba1b7",
   "metadata": {},
   "outputs": [],
   "source": [
    "# single function to make the model\n",
    "# @args\n",
    "# 1. alpha-value (step for gradient descent)\n",
    "# 2. beta (starting beta values for gradient descent)\n",
    "# 3. iterations (number of iterations of gradient descent)\n",
    "# 4. start (starting row)\n",
    "# 5. end (last row)\n",
    "# 6. feature_parameters (features used to train model)\n",
    "# @return r^2 and mse values\n",
    "\n",
    "def make_model(alpha, beta, iterations,start=46,end=None, feature_parameters =[\"new_cases_smoothed_per_million\",\"total_cases_per_million\",\"new_deaths_smoothed_per_million\", \"reproduction_rate\", \"new_tests_smoothed_per_thousand\",\"people_fully_vaccinated_per_hundred\",\"positive_rate\"], dataset = \"Data/Singapore_Covid_Data_csv.csv\" ):\n",
    "    df = pd.read_csv(dataset)\n",
    "    # Extract the features and the target\n",
    "    df_features_original_train, df_target = get_features_targets(df.loc[start:end,:],feature_parameters,[\"stringency_index\"])\n",
    "\n",
    "    # Split the data set into training and test\n",
    "    df_features_train, df_features_test, df_target_train, df_target_test = split_data(df_features_original_train,df_target,100,0.3)\n",
    "\n",
    "    # Normalize the features using z normalization\n",
    "    df_features_train_z = normalize_z(df_features_train)\n",
    "\n",
    "    # Change the features and the target to numpy array using the prepare functions\n",
    "    X = prepare_feature(df_features_train_z)\n",
    "    target = prepare_target(df_target_train)\n",
    "\n",
    "    # Call the gradient_descent function\n",
    "    beta, J_storage = gradient_descent(X, target, beta, alpha, iterations)\n",
    "\n",
    "    # call the predict() method\n",
    "    pred = predict(df_features_test,beta)\n",
    "\n",
    "    target = prepare_target(df_target_test)\n",
    "    r2 = r2_score(target,pred)\n",
    "    mse = mean_squared_error(target, pred)\n",
    "    print(f\"r^2 value = {r2}, mean squared error = {mse}\")\n",
    "    return r2, mse"
   ]
  },
  {
   "cell_type": "markdown",
   "id": "33ec5e49",
   "metadata": {},
   "source": []
  },
  {
   "cell_type": "code",
   "execution_count": 184,
   "id": "ba179f47",
   "metadata": {},
   "outputs": [
    {
     "name": "stdout",
     "output_type": "stream",
     "text": [
      "r^2 value = 0.42114051209403536, mean squared error = 46.80426835532884\n"
     ]
    },
    {
     "data": {
      "text/plain": [
       "(0.42114051209403536, 46.80426835532884)"
      ]
     },
     "execution_count": 184,
     "metadata": {},
     "output_type": "execute_result"
    }
   ],
   "source": [
    "## include entire dataset, consisting of unrelated values\n",
    "make_model(0.01,np.zeros((8, 1)),500, 0, None)\n"
   ]
  },
  {
   "cell_type": "code",
   "execution_count": 185,
   "id": "59cf1747",
   "metadata": {},
   "outputs": [
    {
     "name": "stdout",
     "output_type": "stream",
     "text": [
      "r^2 value = 0.8285914432460768, mean squared error = 13.06908502999007\n"
     ]
    },
    {
     "data": {
      "text/plain": [
       "(0.8285914432460768, 13.06908502999007)"
      ]
     },
     "execution_count": 185,
     "metadata": {},
     "output_type": "execute_result"
    }
   ],
   "source": [
    "## change in dataset to include only targeted dataset\n",
    "make_model(0.01,np.zeros((8, 1)),500, 46, None)"
   ]
  },
  {
   "cell_type": "code",
   "execution_count": 186,
   "id": "d01612ff",
   "metadata": {},
   "outputs": [
    {
     "name": "stdout",
     "output_type": "stream",
     "text": [
      "r^2 value = -1.158742436289241, mean squared error = 164.5938160381032\n",
      "r^2 value = 0.8510612100020536, mean squared error = 11.355872469898992\n",
      "r^2 value = 0.8519836618216587, mean squared error = 11.285539917692775\n",
      "r^2 value = 0.8519840574426955, mean squared error = 11.285509753475385\n"
     ]
    },
    {
     "data": {
      "text/plain": [
       "[Text(0.5, 1.0, 'Model Metrics against alpha value'), Text(0, 0.5, '')]"
      ]
     },
     "execution_count": 186,
     "metadata": {},
     "output_type": "execute_result"
    },
    {
     "data": {
      "image/png": "[encoded data removed]",
      "text/plain": [
       "<Figure size 432x288 with 1 Axes>"
      ]
     },
     "metadata": {
      "needs_background": "light"
     },
     "output_type": "display_data"
    }
   ],
   "source": [
    "## test for changes to alpha value\n",
    "alpha_range = [0.001, 0.01, 0.05, 0.1]\n",
    "r2_value_range = []\n",
    "mse_value_range = []\n",
    "for i in alpha_range:\n",
    "    r2_value, mse_value = make_model(i,np.zeros((8,1)),1500, 46, None)\n",
    "    r2_value_range.append(r2_value)\n",
    "    mse_value_range.append(mse_value)\n",
    "data = pd.DataFrame(list(zip(alpha_range, r2_value_range, mse_value_range)))\n",
    "data.columns = [\"alpha_range\", \"r2_value_range\", \"mse_value_range\"]\n",
    "sns.lineplot(data = data,x=\"alpha_range\", y=\"r2_value_range\", label = \"r^2\")\n",
    "sns.lineplot(data = data,x=\"alpha_range\", y=\"mse_value_range\", label = \"Mean Squared Error\").set(title=\"Model Metrics against alpha value\", ylabel = \"\")\n",
    "\n",
    "\n",
    "# r^2 and mse values become significantly more accurate after 0.01 alpha value\n",
    "# to reach mse_value with accuracy of up to 3 d.p, you will need to reach 5200 iterations"
   ]
  },
  {
   "cell_type": "code",
   "execution_count": 187,
   "id": "ef6eda30",
   "metadata": {},
   "outputs": [
    {
     "name": "stdout",
     "output_type": "stream",
     "text": [
      "r^2 value = 0.8285914432460768, mean squared error = 13.06908502999007\n",
      "r^2 value = 0.8275510365654146, mean squared error = 13.148411077842301\n",
      "r^2 value = 0.8197180956837725, mean squared error = 13.745635465910794\n",
      "r^2 value = 0.8016664627239785, mean squared error = 15.121986393480928\n"
     ]
    }
   ],
   "source": [
    "beta_range = [np.zeros((8,1)),np.ones((8,1)),np.full((8,1),5),np.full((8,1),10)]\n",
    "# changing beta values makes no difference to r2 and mse values\n",
    "for i in beta_range:\n",
    "    make_model(0.01,i,500, 46, None)"
   ]
  },
  {
   "cell_type": "code",
   "execution_count": 188,
   "id": "2e8d07a7",
   "metadata": {},
   "outputs": [
    {
     "name": "stdout",
     "output_type": "stream",
     "text": [
      "r^2 value = -4.339631300745523, mean squared error = 407.12142275617464\n",
      "r^2 value = 0.697972716270275, mean squared error = 23.028140060168656\n",
      "r^2 value = 0.8285914432460768, mean squared error = 13.06908502999007\n",
      "r^2 value = 0.8425723252282127, mean squared error = 12.003109451646557\n",
      "r^2 value = 0.8472672462029023, mean squared error = 11.645144116722292\n",
      "r^2 value = 0.8493942650244587, mean squared error = 11.482969075022265\n",
      "r^2 value = 0.8504749095294593, mean squared error = 11.40057508495256\n",
      "r^2 value = 0.8510612100020536, mean squared error = 11.355872469898992\n",
      "r^2 value = 0.8513948981711285, mean squared error = 11.330430338317424\n",
      "r^2 value = 0.8515928583438539, mean squared error = 11.315336819190398\n",
      "r^2 value = 0.8517149702276788, mean squared error = 11.306026370382577\n",
      "r^2 value = 0.8517931622815466, mean squared error = 11.300064599161706\n",
      "r^2 value = 0.8518450331250098, mean squared error = 11.296109694712143\n",
      "r^2 value = 0.8518805864124575, mean squared error = 11.293398926092719\n",
      "r^2 value = 0.8519056823368546, mean squared error = 11.291485481536258\n",
      "r^2 value = 0.8519238580433948, mean squared error = 11.290099670589871\n",
      "r^2 value = 0.8519373130537826, mean squared error = 11.289073790212786\n",
      "r^2 value = 0.8519474561214861, mean squared error = 11.288300429671212\n",
      "r^2 value = 0.8519552161292061, mean squared error = 11.287708766088913\n",
      "r^2 value = 0.8519612230535916, mean squared error = 11.287250766750672\n",
      "r^2 value = 0.8519659157537913, mean squared error = 11.286892970739245\n",
      "r^2 value = 0.8519696076476797, mean squared error = 11.286611481436356\n",
      "r^2 value = 0.8519737532389255, mean squared error = 11.286295399873586\n",
      "r^2 value = 0.8519758216784034, mean squared error = 11.28613769122749\n",
      "r^2 value = 0.8519774706658365, mean squared error = 11.286011963799494\n",
      "r^2 value = 0.8519787875035642, mean squared error = 11.285911561202568\n",
      "r^2 value = 0.8519798403109702, mean squared error = 11.28583128965855\n",
      "r^2 value = 0.8519806826526523, mean squared error = 11.28576706512229\n"
     ]
    },
    {
     "data": {
      "text/plain": [
       "[Text(0.5, 1.0, 'Model Metrics against number of iterations'),\n",
       " Text(0, 0.5, '')]"
      ]
     },
     "execution_count": 188,
     "metadata": {},
     "output_type": "execute_result"
    },
    {
     "data": {
      "image/png": "[encoded data removed]",
      "text/plain": [
       "<Figure size 432x288 with 1 Axes>"
      ]
     },
     "metadata": {
      "needs_background": "light"
     },
     "output_type": "display_data"
    }
   ],
   "source": [
    "iterations_range = [100,300,500,700,900,1100,1300,1500,1700,1900,2100,2300,2500,2700,2900,3100,3300,3500,3700,3900,4100,4300,4600,4800,5000,5200,5400,5600]\n",
    "# change in number of iterations\n",
    "r2_value_range = []\n",
    "mse_value_range = []\n",
    "for i in iterations_range:\n",
    "    r2_value, mse_value = make_model(0.01,np.zeros((8,1)), i, 46, None)\n",
    "    r2_value_range.append(r2_value)\n",
    "    mse_value_range.append(mse_value)\n",
    "data = pd.DataFrame(list(zip(iterations_range, r2_value_range, mse_value_range)))\n",
    "data.columns = [\"iterations_range\", \"r2_value_range\", \"mse_value_range\"]\n",
    "sns.lineplot(data = data,x=\"iterations_range\", y=\"r2_value_range\", label = \"r^2\")\n",
    "sns.lineplot(data = data,x=\"iterations_range\", y=\"mse_value_range\", label = \"Mean Squared Error\").set(title=\"Model Metrics against number of iterations\", ylabel = \"\")\n",
    "\n",
    "# r^2 and mse values become significantly more accurate after 300 iterations\n",
    "# to reach mse_value with accuracy of up to 3 d.p, you will need to reach 5200 iterations"
   ]
  },
  {
   "cell_type": "code",
   "execution_count": 189,
   "id": "ee6943c0",
   "metadata": {},
   "outputs": [
    {
     "name": "stdout",
     "output_type": "stream",
     "text": [
      "r^2 value = 0.49175208012212146, mean squared error = 36.01487081667976\n"
     ]
    },
    {
     "data": {
      "text/plain": [
       "(0.49175208012212146, 36.01487081667976)"
      ]
     },
     "execution_count": 189,
     "metadata": {},
     "output_type": "execute_result"
    }
   ],
   "source": [
    "# use different features to decide if it would improve MSE and r^2 values\n",
    "features_evaluated = [\"total_cases\",\"new_cases\",\"new_cases_smoothed\",\"total_deaths\",\"new_deaths\",\"new_deaths_smoothed\",\"total_cases_per_million\",\"new_cases_per_million\",\"new_cases_smoothed_per_million\",\"total_deaths_per_million\",\"new_deaths_per_million\",\"new_deaths_smoothed_per_million\",\"reproduction_rate\",\"new_tests_smoothed\",\"new_tests_smoothed_per_thousand\",\"positive_rate\",\"tests_per_case\"]\n",
    "make_model(0.01, np.ones((18,1)), 5200, 46, None,features_evaluated, \"Data/singapore_covid_data_total_feature.csv\")"
   ]
  },
  {
   "cell_type": "code",
   "execution_count": null,
   "id": "aab14563",
   "metadata": {},
   "outputs": [],
   "source": []
  },
  {
   "cell_type": "code",
   "execution_count": null,
   "id": "05cf8c24",
   "metadata": {},
   "outputs": [],
   "source": []
  },
  {
   "cell_type": "code",
   "execution_count": null,
   "id": "12acae52",
   "metadata": {},
   "outputs": [],
   "source": []
  },
  {
   "cell_type": "code",
   "execution_count": null,
   "id": "e45c37b8",
   "metadata": {},
   "outputs": [],
   "source": []
  },
  {
   "cell_type": "code",
   "execution_count": null,
   "id": "86828ada",
   "metadata": {},
   "outputs": [],
   "source": []
  },
  {
   "cell_type": "code",
   "execution_count": null,
   "id": "5a1d9e9e",
   "metadata": {},
   "outputs": [],
   "source": []
  }
 ],
 "metadata": {
  "kernelspec": {
   "display_name": "Python 3 (ipykernel)",
   "language": "python",
   "name": "python3"
  },
  "language_info": {
   "codemirror_mode": {
    "name": "ipython",
    "version": 3
   },
   "file_extension": ".py",
   "mimetype": "text/x-python",
   "name": "python",
   "nbconvert_exporter": "python",
   "pygments_lexer": "ipython3",
   "version": "3.8.8"
  }
 },
 "nbformat": 4,
 "nbformat_minor": 5
}
